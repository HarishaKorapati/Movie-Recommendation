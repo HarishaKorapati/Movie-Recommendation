{
  "metadata": {
    "kernelspec": {
      "language": "python",
      "display_name": "Python 3",
      "name": "python3"
    },
    "language_info": {
      "name": "python",
      "version": "3.7.12",
      "mimetype": "text/x-python",
      "codemirror_mode": {
        "name": "ipython",
        "version": 3
      },
      "pygments_lexer": "ipython3",
      "nbconvert_exporter": "python",
      "file_extension": ".py"
    },
    "colab": {
      "provenance": [],
      "machine_shape": "hm",
      "gpuType": "A100"
    },
    "accelerator": "GPU",
    "gpuClass": "standard"
  },
  "nbformat_minor": 0,
  "nbformat": 4,
  "cells": [
    {
      "cell_type": "code",
      "source": [
        "from google.colab import drive\n",
        "drive.mount('/content/drive')"
      ],
      "metadata": {
        "colab": {
          "base_uri": "https://localhost:8080/"
        },
        "id": "_bmct0E8Lvad",
        "outputId": "30cd0bfe-1d7b-46f0-fcba-582322543b5a"
      },
      "execution_count": 268,
      "outputs": [
        {
          "output_type": "stream",
          "name": "stdout",
          "text": [
            "Drive already mounted at /content/drive; to attempt to forcibly remount, call drive.mount(\"/content/drive\", force_remount=True).\n"
          ]
        }
      ]
    },
    {
      "cell_type": "code",
      "source": [
        "!pip install tensorflow-recommenders"
      ],
      "metadata": {
        "execution": {
          "iopub.status.busy": "2023-04-30T02:59:49.062457Z",
          "iopub.execute_input": "2023-04-30T02:59:49.063212Z",
          "iopub.status.idle": "2023-04-30T03:00:10.778497Z",
          "shell.execute_reply.started": "2023-04-30T02:59:49.063172Z",
          "shell.execute_reply": "2023-04-30T03:00:10.777209Z"
        },
        "trusted": true,
        "colab": {
          "base_uri": "https://localhost:8080/"
        },
        "id": "178Avq3MLbT4",
        "outputId": "f44a367c-0ee1-435d-e0a3-4b871adc963d"
      },
      "execution_count": 269,
      "outputs": [
        {
          "output_type": "stream",
          "name": "stdout",
          "text": [
            "Looking in indexes: https://pypi.org/simple, https://us-python.pkg.dev/colab-wheels/public/simple/\n",
            "Requirement already satisfied: tensorflow-recommenders in /usr/local/lib/python3.10/dist-packages (0.7.3)\n",
            "Requirement already satisfied: absl-py>=0.1.6 in /usr/local/lib/python3.10/dist-packages (from tensorflow-recommenders) (1.4.0)\n",
            "Requirement already satisfied: tensorflow>=2.9.0 in /usr/local/lib/python3.10/dist-packages (from tensorflow-recommenders) (2.12.0)\n",
            "Requirement already satisfied: astunparse>=1.6.0 in /usr/local/lib/python3.10/dist-packages (from tensorflow>=2.9.0->tensorflow-recommenders) (1.6.3)\n",
            "Requirement already satisfied: flatbuffers>=2.0 in /usr/local/lib/python3.10/dist-packages (from tensorflow>=2.9.0->tensorflow-recommenders) (23.3.3)\n",
            "Requirement already satisfied: gast<=0.4.0,>=0.2.1 in /usr/local/lib/python3.10/dist-packages (from tensorflow>=2.9.0->tensorflow-recommenders) (0.4.0)\n",
            "Requirement already satisfied: google-pasta>=0.1.1 in /usr/local/lib/python3.10/dist-packages (from tensorflow>=2.9.0->tensorflow-recommenders) (0.2.0)\n",
            "Requirement already satisfied: grpcio<2.0,>=1.24.3 in /usr/local/lib/python3.10/dist-packages (from tensorflow>=2.9.0->tensorflow-recommenders) (1.54.0)\n",
            "Requirement already satisfied: h5py>=2.9.0 in /usr/local/lib/python3.10/dist-packages (from tensorflow>=2.9.0->tensorflow-recommenders) (3.8.0)\n",
            "Requirement already satisfied: jax>=0.3.15 in /usr/local/lib/python3.10/dist-packages (from tensorflow>=2.9.0->tensorflow-recommenders) (0.4.8)\n",
            "Requirement already satisfied: keras<2.13,>=2.12.0 in /usr/local/lib/python3.10/dist-packages (from tensorflow>=2.9.0->tensorflow-recommenders) (2.12.0)\n",
            "Requirement already satisfied: libclang>=13.0.0 in /usr/local/lib/python3.10/dist-packages (from tensorflow>=2.9.0->tensorflow-recommenders) (16.0.0)\n",
            "Requirement already satisfied: numpy<1.24,>=1.22 in /usr/local/lib/python3.10/dist-packages (from tensorflow>=2.9.0->tensorflow-recommenders) (1.22.4)\n",
            "Requirement already satisfied: opt-einsum>=2.3.2 in /usr/local/lib/python3.10/dist-packages (from tensorflow>=2.9.0->tensorflow-recommenders) (3.3.0)\n",
            "Requirement already satisfied: packaging in /usr/local/lib/python3.10/dist-packages (from tensorflow>=2.9.0->tensorflow-recommenders) (23.1)\n",
            "Requirement already satisfied: protobuf!=4.21.0,!=4.21.1,!=4.21.2,!=4.21.3,!=4.21.4,!=4.21.5,<5.0.0dev,>=3.20.3 in /usr/local/lib/python3.10/dist-packages (from tensorflow>=2.9.0->tensorflow-recommenders) (3.20.3)\n",
            "Requirement already satisfied: setuptools in /usr/local/lib/python3.10/dist-packages (from tensorflow>=2.9.0->tensorflow-recommenders) (67.7.2)\n",
            "Requirement already satisfied: six>=1.12.0 in /usr/local/lib/python3.10/dist-packages (from tensorflow>=2.9.0->tensorflow-recommenders) (1.16.0)\n",
            "Requirement already satisfied: tensorboard<2.13,>=2.12 in /usr/local/lib/python3.10/dist-packages (from tensorflow>=2.9.0->tensorflow-recommenders) (2.12.2)\n",
            "Requirement already satisfied: tensorflow-estimator<2.13,>=2.12.0 in /usr/local/lib/python3.10/dist-packages (from tensorflow>=2.9.0->tensorflow-recommenders) (2.12.0)\n",
            "Requirement already satisfied: termcolor>=1.1.0 in /usr/local/lib/python3.10/dist-packages (from tensorflow>=2.9.0->tensorflow-recommenders) (2.3.0)\n",
            "Requirement already satisfied: typing-extensions>=3.6.6 in /usr/local/lib/python3.10/dist-packages (from tensorflow>=2.9.0->tensorflow-recommenders) (4.5.0)\n",
            "Requirement already satisfied: wrapt<1.15,>=1.11.0 in /usr/local/lib/python3.10/dist-packages (from tensorflow>=2.9.0->tensorflow-recommenders) (1.14.1)\n",
            "Requirement already satisfied: tensorflow-io-gcs-filesystem>=0.23.1 in /usr/local/lib/python3.10/dist-packages (from tensorflow>=2.9.0->tensorflow-recommenders) (0.32.0)\n",
            "Requirement already satisfied: wheel<1.0,>=0.23.0 in /usr/local/lib/python3.10/dist-packages (from astunparse>=1.6.0->tensorflow>=2.9.0->tensorflow-recommenders) (0.40.0)\n",
            "Requirement already satisfied: ml-dtypes>=0.0.3 in /usr/local/lib/python3.10/dist-packages (from jax>=0.3.15->tensorflow>=2.9.0->tensorflow-recommenders) (0.1.0)\n",
            "Requirement already satisfied: scipy>=1.7 in /usr/local/lib/python3.10/dist-packages (from jax>=0.3.15->tensorflow>=2.9.0->tensorflow-recommenders) (1.10.1)\n",
            "Requirement already satisfied: google-auth<3,>=1.6.3 in /usr/local/lib/python3.10/dist-packages (from tensorboard<2.13,>=2.12->tensorflow>=2.9.0->tensorflow-recommenders) (2.17.3)\n",
            "Requirement already satisfied: google-auth-oauthlib<1.1,>=0.5 in /usr/local/lib/python3.10/dist-packages (from tensorboard<2.13,>=2.12->tensorflow>=2.9.0->tensorflow-recommenders) (1.0.0)\n",
            "Requirement already satisfied: markdown>=2.6.8 in /usr/local/lib/python3.10/dist-packages (from tensorboard<2.13,>=2.12->tensorflow>=2.9.0->tensorflow-recommenders) (3.4.3)\n",
            "Requirement already satisfied: requests<3,>=2.21.0 in /usr/local/lib/python3.10/dist-packages (from tensorboard<2.13,>=2.12->tensorflow>=2.9.0->tensorflow-recommenders) (2.27.1)\n",
            "Requirement already satisfied: tensorboard-data-server<0.8.0,>=0.7.0 in /usr/local/lib/python3.10/dist-packages (from tensorboard<2.13,>=2.12->tensorflow>=2.9.0->tensorflow-recommenders) (0.7.0)\n",
            "Requirement already satisfied: tensorboard-plugin-wit>=1.6.0 in /usr/local/lib/python3.10/dist-packages (from tensorboard<2.13,>=2.12->tensorflow>=2.9.0->tensorflow-recommenders) (1.8.1)\n",
            "Requirement already satisfied: werkzeug>=1.0.1 in /usr/local/lib/python3.10/dist-packages (from tensorboard<2.13,>=2.12->tensorflow>=2.9.0->tensorflow-recommenders) (2.3.0)\n",
            "Requirement already satisfied: cachetools<6.0,>=2.0.0 in /usr/local/lib/python3.10/dist-packages (from google-auth<3,>=1.6.3->tensorboard<2.13,>=2.12->tensorflow>=2.9.0->tensorflow-recommenders) (5.3.0)\n",
            "Requirement already satisfied: pyasn1-modules>=0.2.1 in /usr/local/lib/python3.10/dist-packages (from google-auth<3,>=1.6.3->tensorboard<2.13,>=2.12->tensorflow>=2.9.0->tensorflow-recommenders) (0.3.0)\n",
            "Requirement already satisfied: rsa<5,>=3.1.4 in /usr/local/lib/python3.10/dist-packages (from google-auth<3,>=1.6.3->tensorboard<2.13,>=2.12->tensorflow>=2.9.0->tensorflow-recommenders) (4.9)\n",
            "Requirement already satisfied: requests-oauthlib>=0.7.0 in /usr/local/lib/python3.10/dist-packages (from google-auth-oauthlib<1.1,>=0.5->tensorboard<2.13,>=2.12->tensorflow>=2.9.0->tensorflow-recommenders) (1.3.1)\n",
            "Requirement already satisfied: urllib3<1.27,>=1.21.1 in /usr/local/lib/python3.10/dist-packages (from requests<3,>=2.21.0->tensorboard<2.13,>=2.12->tensorflow>=2.9.0->tensorflow-recommenders) (1.26.15)\n",
            "Requirement already satisfied: certifi>=2017.4.17 in /usr/local/lib/python3.10/dist-packages (from requests<3,>=2.21.0->tensorboard<2.13,>=2.12->tensorflow>=2.9.0->tensorflow-recommenders) (2022.12.7)\n",
            "Requirement already satisfied: charset-normalizer~=2.0.0 in /usr/local/lib/python3.10/dist-packages (from requests<3,>=2.21.0->tensorboard<2.13,>=2.12->tensorflow>=2.9.0->tensorflow-recommenders) (2.0.12)\n",
            "Requirement already satisfied: idna<4,>=2.5 in /usr/local/lib/python3.10/dist-packages (from requests<3,>=2.21.0->tensorboard<2.13,>=2.12->tensorflow>=2.9.0->tensorflow-recommenders) (3.4)\n",
            "Requirement already satisfied: MarkupSafe>=2.1.1 in /usr/local/lib/python3.10/dist-packages (from werkzeug>=1.0.1->tensorboard<2.13,>=2.12->tensorflow>=2.9.0->tensorflow-recommenders) (2.1.2)\n",
            "Requirement already satisfied: pyasn1<0.6.0,>=0.4.6 in /usr/local/lib/python3.10/dist-packages (from pyasn1-modules>=0.2.1->google-auth<3,>=1.6.3->tensorboard<2.13,>=2.12->tensorflow>=2.9.0->tensorflow-recommenders) (0.5.0)\n",
            "Requirement already satisfied: oauthlib>=3.0.0 in /usr/local/lib/python3.10/dist-packages (from requests-oauthlib>=0.7.0->google-auth-oauthlib<1.1,>=0.5->tensorboard<2.13,>=2.12->tensorflow>=2.9.0->tensorflow-recommenders) (3.2.2)\n"
          ]
        }
      ]
    },
    {
      "cell_type": "code",
      "source": [
        "# import required packages\n",
        "# utility\n",
        "import html\n",
        "import pprint\n",
        "import numpy as np\n",
        "import pandas as pd\n",
        "from typing import Dict, Text\n",
        "\n",
        "# tensorflow\n",
        "import tensorflow as tf\n",
        "import tensorflow_recommenders as tfrs"
      ],
      "metadata": {
        "execution": {
          "iopub.status.busy": "2023-04-30T03:00:10.781333Z",
          "iopub.execute_input": "2023-04-30T03:00:10.781768Z",
          "iopub.status.idle": "2023-04-30T03:00:17.200194Z",
          "shell.execute_reply.started": "2023-04-30T03:00:10.781722Z",
          "shell.execute_reply": "2023-04-30T03:00:17.199150Z"
        },
        "trusted": true,
        "id": "ik2DXy0ELbT5"
      },
      "execution_count": 270,
      "outputs": []
    },
    {
      "cell_type": "code",
      "source": [
        "# load ratings dataset\n",
        "rating_df = pd.read_csv('/content/drive/MyDrive/ml-latest-small/ratings.csv')\n",
        "\n",
        "rating_df.shape"
      ],
      "metadata": {
        "execution": {
          "iopub.status.busy": "2023-04-30T03:00:19.810194Z",
          "iopub.execute_input": "2023-04-30T03:00:19.810566Z",
          "iopub.status.idle": "2023-04-30T03:00:22.447110Z",
          "shell.execute_reply.started": "2023-04-30T03:00:19.810525Z",
          "shell.execute_reply": "2023-04-30T03:00:22.446003Z"
        },
        "trusted": true,
        "colab": {
          "base_uri": "https://localhost:8080/"
        },
        "id": "_22rSzqNLbT7",
        "outputId": "d661aabe-728e-4216-ca96-828e64fd2751"
      },
      "execution_count": 271,
      "outputs": [
        {
          "output_type": "execute_result",
          "data": {
            "text/plain": [
              "(100836, 4)"
            ]
          },
          "metadata": {},
          "execution_count": 271
        }
      ]
    },
    {
      "cell_type": "code",
      "source": [
        "# first 5 data points\n",
        "rating_df.head()"
      ],
      "metadata": {
        "execution": {
          "iopub.status.busy": "2023-04-30T03:00:22.448823Z",
          "iopub.execute_input": "2023-04-30T03:00:22.449219Z",
          "iopub.status.idle": "2023-04-30T03:00:22.465534Z",
          "shell.execute_reply.started": "2023-04-30T03:00:22.449179Z",
          "shell.execute_reply": "2023-04-30T03:00:22.464614Z"
        },
        "trusted": true,
        "colab": {
          "base_uri": "https://localhost:8080/",
          "height": 206
        },
        "id": "ffnqlSkHLbT7",
        "outputId": "5cf3e2bc-4213-42f6-c710-25ad5ab0ceb2"
      },
      "execution_count": 272,
      "outputs": [
        {
          "output_type": "execute_result",
          "data": {
            "text/plain": [
              "   userId  movieId  rating  timestamp\n",
              "0       1        1     4.0  964982703\n",
              "1       1        3     4.0  964981247\n",
              "2       1        6     4.0  964982224\n",
              "3       1       47     5.0  964983815\n",
              "4       1       50     5.0  964982931"
            ],
            "text/html": [
              "\n",
              "  <div id=\"df-cecfc2ca-4c6b-4f42-867c-45a3f3fac082\">\n",
              "    <div class=\"colab-df-container\">\n",
              "      <div>\n",
              "<style scoped>\n",
              "    .dataframe tbody tr th:only-of-type {\n",
              "        vertical-align: middle;\n",
              "    }\n",
              "\n",
              "    .dataframe tbody tr th {\n",
              "        vertical-align: top;\n",
              "    }\n",
              "\n",
              "    .dataframe thead th {\n",
              "        text-align: right;\n",
              "    }\n",
              "</style>\n",
              "<table border=\"1\" class=\"dataframe\">\n",
              "  <thead>\n",
              "    <tr style=\"text-align: right;\">\n",
              "      <th></th>\n",
              "      <th>userId</th>\n",
              "      <th>movieId</th>\n",
              "      <th>rating</th>\n",
              "      <th>timestamp</th>\n",
              "    </tr>\n",
              "  </thead>\n",
              "  <tbody>\n",
              "    <tr>\n",
              "      <th>0</th>\n",
              "      <td>1</td>\n",
              "      <td>1</td>\n",
              "      <td>4.0</td>\n",
              "      <td>964982703</td>\n",
              "    </tr>\n",
              "    <tr>\n",
              "      <th>1</th>\n",
              "      <td>1</td>\n",
              "      <td>3</td>\n",
              "      <td>4.0</td>\n",
              "      <td>964981247</td>\n",
              "    </tr>\n",
              "    <tr>\n",
              "      <th>2</th>\n",
              "      <td>1</td>\n",
              "      <td>6</td>\n",
              "      <td>4.0</td>\n",
              "      <td>964982224</td>\n",
              "    </tr>\n",
              "    <tr>\n",
              "      <th>3</th>\n",
              "      <td>1</td>\n",
              "      <td>47</td>\n",
              "      <td>5.0</td>\n",
              "      <td>964983815</td>\n",
              "    </tr>\n",
              "    <tr>\n",
              "      <th>4</th>\n",
              "      <td>1</td>\n",
              "      <td>50</td>\n",
              "      <td>5.0</td>\n",
              "      <td>964982931</td>\n",
              "    </tr>\n",
              "  </tbody>\n",
              "</table>\n",
              "</div>\n",
              "      <button class=\"colab-df-convert\" onclick=\"convertToInteractive('df-cecfc2ca-4c6b-4f42-867c-45a3f3fac082')\"\n",
              "              title=\"Convert this dataframe to an interactive table.\"\n",
              "              style=\"display:none;\">\n",
              "        \n",
              "  <svg xmlns=\"http://www.w3.org/2000/svg\" height=\"24px\"viewBox=\"0 0 24 24\"\n",
              "       width=\"24px\">\n",
              "    <path d=\"M0 0h24v24H0V0z\" fill=\"none\"/>\n",
              "    <path d=\"M18.56 5.44l.94 2.06.94-2.06 2.06-.94-2.06-.94-.94-2.06-.94 2.06-2.06.94zm-11 1L8.5 8.5l.94-2.06 2.06-.94-2.06-.94L8.5 2.5l-.94 2.06-2.06.94zm10 10l.94 2.06.94-2.06 2.06-.94-2.06-.94-.94-2.06-.94 2.06-2.06.94z\"/><path d=\"M17.41 7.96l-1.37-1.37c-.4-.4-.92-.59-1.43-.59-.52 0-1.04.2-1.43.59L10.3 9.45l-7.72 7.72c-.78.78-.78 2.05 0 2.83L4 21.41c.39.39.9.59 1.41.59.51 0 1.02-.2 1.41-.59l7.78-7.78 2.81-2.81c.8-.78.8-2.07 0-2.86zM5.41 20L4 18.59l7.72-7.72 1.47 1.35L5.41 20z\"/>\n",
              "  </svg>\n",
              "      </button>\n",
              "      \n",
              "  <style>\n",
              "    .colab-df-container {\n",
              "      display:flex;\n",
              "      flex-wrap:wrap;\n",
              "      gap: 12px;\n",
              "    }\n",
              "\n",
              "    .colab-df-convert {\n",
              "      background-color: #E8F0FE;\n",
              "      border: none;\n",
              "      border-radius: 50%;\n",
              "      cursor: pointer;\n",
              "      display: none;\n",
              "      fill: #1967D2;\n",
              "      height: 32px;\n",
              "      padding: 0 0 0 0;\n",
              "      width: 32px;\n",
              "    }\n",
              "\n",
              "    .colab-df-convert:hover {\n",
              "      background-color: #E2EBFA;\n",
              "      box-shadow: 0px 1px 2px rgba(60, 64, 67, 0.3), 0px 1px 3px 1px rgba(60, 64, 67, 0.15);\n",
              "      fill: #174EA6;\n",
              "    }\n",
              "\n",
              "    [theme=dark] .colab-df-convert {\n",
              "      background-color: #3B4455;\n",
              "      fill: #D2E3FC;\n",
              "    }\n",
              "\n",
              "    [theme=dark] .colab-df-convert:hover {\n",
              "      background-color: #434B5C;\n",
              "      box-shadow: 0px 1px 3px 1px rgba(0, 0, 0, 0.15);\n",
              "      filter: drop-shadow(0px 1px 2px rgba(0, 0, 0, 0.3));\n",
              "      fill: #FFFFFF;\n",
              "    }\n",
              "  </style>\n",
              "\n",
              "      <script>\n",
              "        const buttonEl =\n",
              "          document.querySelector('#df-cecfc2ca-4c6b-4f42-867c-45a3f3fac082 button.colab-df-convert');\n",
              "        buttonEl.style.display =\n",
              "          google.colab.kernel.accessAllowed ? 'block' : 'none';\n",
              "\n",
              "        async function convertToInteractive(key) {\n",
              "          const element = document.querySelector('#df-cecfc2ca-4c6b-4f42-867c-45a3f3fac082');\n",
              "          const dataTable =\n",
              "            await google.colab.kernel.invokeFunction('convertToInteractive',\n",
              "                                                     [key], {});\n",
              "          if (!dataTable) return;\n",
              "\n",
              "          const docLinkHtml = 'Like what you see? Visit the ' +\n",
              "            '<a target=\"_blank\" href=https://colab.research.google.com/notebooks/data_table.ipynb>data table notebook</a>'\n",
              "            + ' to learn more about interactive tables.';\n",
              "          element.innerHTML = '';\n",
              "          dataTable['output_type'] = 'display_data';\n",
              "          await google.colab.output.renderOutput(dataTable, element);\n",
              "          const docLink = document.createElement('div');\n",
              "          docLink.innerHTML = docLinkHtml;\n",
              "          element.appendChild(docLink);\n",
              "        }\n",
              "      </script>\n",
              "    </div>\n",
              "  </div>\n",
              "  "
            ]
          },
          "metadata": {},
          "execution_count": 272
        }
      ]
    },
    {
      "cell_type": "code",
      "source": [
        "# info\n",
        "rating_df.info()"
      ],
      "metadata": {
        "execution": {
          "iopub.status.busy": "2023-04-30T03:00:22.467199Z",
          "iopub.execute_input": "2023-04-30T03:00:22.467559Z",
          "iopub.status.idle": "2023-04-30T03:00:22.488772Z",
          "shell.execute_reply.started": "2023-04-30T03:00:22.467523Z",
          "shell.execute_reply": "2023-04-30T03:00:22.487606Z"
        },
        "trusted": true,
        "colab": {
          "base_uri": "https://localhost:8080/"
        },
        "id": "pa0bdMjILbT7",
        "outputId": "27fdabf4-eb92-4205-bbf6-fd88c92ac564"
      },
      "execution_count": 273,
      "outputs": [
        {
          "output_type": "stream",
          "name": "stdout",
          "text": [
            "<class 'pandas.core.frame.DataFrame'>\n",
            "RangeIndex: 100836 entries, 0 to 100835\n",
            "Data columns (total 4 columns):\n",
            " #   Column     Non-Null Count   Dtype  \n",
            "---  ------     --------------   -----  \n",
            " 0   userId     100836 non-null  int64  \n",
            " 1   movieId    100836 non-null  int64  \n",
            " 2   rating     100836 non-null  float64\n",
            " 3   timestamp  100836 non-null  int64  \n",
            "dtypes: float64(1), int64(3)\n",
            "memory usage: 3.1 MB\n"
          ]
        }
      ]
    },
    {
      "cell_type": "code",
      "source": [
        "# convert id columns to string\n",
        "rating_df['userId'] = rating_df['userId'].map(lambda x: str(x))\n",
        "rating_df['movieId'] = rating_df['movieId'].map(lambda x: str(x))"
      ],
      "metadata": {
        "execution": {
          "iopub.status.busy": "2023-04-30T03:00:22.490364Z",
          "iopub.execute_input": "2023-04-30T03:00:22.491493Z",
          "iopub.status.idle": "2023-04-30T03:00:28.133285Z",
          "shell.execute_reply.started": "2023-04-30T03:00:22.491451Z",
          "shell.execute_reply": "2023-04-30T03:00:28.132231Z"
        },
        "trusted": true,
        "id": "zx0yW3YTLbT8"
      },
      "execution_count": 274,
      "outputs": []
    },
    {
      "cell_type": "code",
      "source": [
        "rating_df.isna().sum()"
      ],
      "metadata": {
        "execution": {
          "iopub.status.busy": "2023-04-30T03:00:28.135042Z",
          "iopub.execute_input": "2023-04-30T03:00:28.135402Z",
          "iopub.status.idle": "2023-04-30T03:00:28.667265Z",
          "shell.execute_reply.started": "2023-04-30T03:00:28.135363Z",
          "shell.execute_reply": "2023-04-30T03:00:28.666015Z"
        },
        "trusted": true,
        "colab": {
          "base_uri": "https://localhost:8080/"
        },
        "id": "gouAQE-_LbT8",
        "outputId": "e06afbc3-5f23-47e8-c610-ac31e476aabd"
      },
      "execution_count": 275,
      "outputs": [
        {
          "output_type": "execute_result",
          "data": {
            "text/plain": [
              "userId       0\n",
              "movieId      0\n",
              "rating       0\n",
              "timestamp    0\n",
              "dtype: int64"
            ]
          },
          "metadata": {},
          "execution_count": 275
        }
      ]
    },
    {
      "cell_type": "code",
      "source": [
        "# load anime metadata\n",
        "movie_df = pd.read_csv('/content/drive/MyDrive/ml-latest-small/movies.csv')\n",
        "\n",
        "movie_df.shape"
      ],
      "metadata": {
        "execution": {
          "iopub.status.busy": "2023-04-30T03:00:28.669185Z",
          "iopub.execute_input": "2023-04-30T03:00:28.669618Z",
          "iopub.status.idle": "2023-04-30T03:00:28.711699Z",
          "shell.execute_reply.started": "2023-04-30T03:00:28.669578Z",
          "shell.execute_reply": "2023-04-30T03:00:28.710576Z"
        },
        "trusted": true,
        "colab": {
          "base_uri": "https://localhost:8080/"
        },
        "id": "makwVO0pLbT8",
        "outputId": "3ba90bfe-bdf6-480f-ab32-5b7309c31ea2"
      },
      "execution_count": 276,
      "outputs": [
        {
          "output_type": "execute_result",
          "data": {
            "text/plain": [
              "(9742, 3)"
            ]
          },
          "metadata": {},
          "execution_count": 276
        }
      ]
    },
    {
      "cell_type": "code",
      "source": [
        "# first 5 data points\n",
        "movie_df.head()"
      ],
      "metadata": {
        "execution": {
          "iopub.status.busy": "2023-04-30T03:00:28.716217Z",
          "iopub.execute_input": "2023-04-30T03:00:28.716500Z",
          "iopub.status.idle": "2023-04-30T03:00:28.730915Z",
          "shell.execute_reply.started": "2023-04-30T03:00:28.716472Z",
          "shell.execute_reply": "2023-04-30T03:00:28.728994Z"
        },
        "trusted": true,
        "colab": {
          "base_uri": "https://localhost:8080/",
          "height": 206
        },
        "id": "13EfodiRLbT8",
        "outputId": "2bdc8890-fd7f-4c02-8024-39b0cbcd6458"
      },
      "execution_count": 277,
      "outputs": [
        {
          "output_type": "execute_result",
          "data": {
            "text/plain": [
              "   movieId                               title  \\\n",
              "0        1                    Toy Story (1995)   \n",
              "1        2                      Jumanji (1995)   \n",
              "2        3             Grumpier Old Men (1995)   \n",
              "3        4            Waiting to Exhale (1995)   \n",
              "4        5  Father of the Bride Part II (1995)   \n",
              "\n",
              "                                        genres  \n",
              "0  Adventure|Animation|Children|Comedy|Fantasy  \n",
              "1                   Adventure|Children|Fantasy  \n",
              "2                               Comedy|Romance  \n",
              "3                         Comedy|Drama|Romance  \n",
              "4                                       Comedy  "
            ],
            "text/html": [
              "\n",
              "  <div id=\"df-6fc51c74-37b3-4905-abc9-3c715d4f4e3e\">\n",
              "    <div class=\"colab-df-container\">\n",
              "      <div>\n",
              "<style scoped>\n",
              "    .dataframe tbody tr th:only-of-type {\n",
              "        vertical-align: middle;\n",
              "    }\n",
              "\n",
              "    .dataframe tbody tr th {\n",
              "        vertical-align: top;\n",
              "    }\n",
              "\n",
              "    .dataframe thead th {\n",
              "        text-align: right;\n",
              "    }\n",
              "</style>\n",
              "<table border=\"1\" class=\"dataframe\">\n",
              "  <thead>\n",
              "    <tr style=\"text-align: right;\">\n",
              "      <th></th>\n",
              "      <th>movieId</th>\n",
              "      <th>title</th>\n",
              "      <th>genres</th>\n",
              "    </tr>\n",
              "  </thead>\n",
              "  <tbody>\n",
              "    <tr>\n",
              "      <th>0</th>\n",
              "      <td>1</td>\n",
              "      <td>Toy Story (1995)</td>\n",
              "      <td>Adventure|Animation|Children|Comedy|Fantasy</td>\n",
              "    </tr>\n",
              "    <tr>\n",
              "      <th>1</th>\n",
              "      <td>2</td>\n",
              "      <td>Jumanji (1995)</td>\n",
              "      <td>Adventure|Children|Fantasy</td>\n",
              "    </tr>\n",
              "    <tr>\n",
              "      <th>2</th>\n",
              "      <td>3</td>\n",
              "      <td>Grumpier Old Men (1995)</td>\n",
              "      <td>Comedy|Romance</td>\n",
              "    </tr>\n",
              "    <tr>\n",
              "      <th>3</th>\n",
              "      <td>4</td>\n",
              "      <td>Waiting to Exhale (1995)</td>\n",
              "      <td>Comedy|Drama|Romance</td>\n",
              "    </tr>\n",
              "    <tr>\n",
              "      <th>4</th>\n",
              "      <td>5</td>\n",
              "      <td>Father of the Bride Part II (1995)</td>\n",
              "      <td>Comedy</td>\n",
              "    </tr>\n",
              "  </tbody>\n",
              "</table>\n",
              "</div>\n",
              "      <button class=\"colab-df-convert\" onclick=\"convertToInteractive('df-6fc51c74-37b3-4905-abc9-3c715d4f4e3e')\"\n",
              "              title=\"Convert this dataframe to an interactive table.\"\n",
              "              style=\"display:none;\">\n",
              "        \n",
              "  <svg xmlns=\"http://www.w3.org/2000/svg\" height=\"24px\"viewBox=\"0 0 24 24\"\n",
              "       width=\"24px\">\n",
              "    <path d=\"M0 0h24v24H0V0z\" fill=\"none\"/>\n",
              "    <path d=\"M18.56 5.44l.94 2.06.94-2.06 2.06-.94-2.06-.94-.94-2.06-.94 2.06-2.06.94zm-11 1L8.5 8.5l.94-2.06 2.06-.94-2.06-.94L8.5 2.5l-.94 2.06-2.06.94zm10 10l.94 2.06.94-2.06 2.06-.94-2.06-.94-.94-2.06-.94 2.06-2.06.94z\"/><path d=\"M17.41 7.96l-1.37-1.37c-.4-.4-.92-.59-1.43-.59-.52 0-1.04.2-1.43.59L10.3 9.45l-7.72 7.72c-.78.78-.78 2.05 0 2.83L4 21.41c.39.39.9.59 1.41.59.51 0 1.02-.2 1.41-.59l7.78-7.78 2.81-2.81c.8-.78.8-2.07 0-2.86zM5.41 20L4 18.59l7.72-7.72 1.47 1.35L5.41 20z\"/>\n",
              "  </svg>\n",
              "      </button>\n",
              "      \n",
              "  <style>\n",
              "    .colab-df-container {\n",
              "      display:flex;\n",
              "      flex-wrap:wrap;\n",
              "      gap: 12px;\n",
              "    }\n",
              "\n",
              "    .colab-df-convert {\n",
              "      background-color: #E8F0FE;\n",
              "      border: none;\n",
              "      border-radius: 50%;\n",
              "      cursor: pointer;\n",
              "      display: none;\n",
              "      fill: #1967D2;\n",
              "      height: 32px;\n",
              "      padding: 0 0 0 0;\n",
              "      width: 32px;\n",
              "    }\n",
              "\n",
              "    .colab-df-convert:hover {\n",
              "      background-color: #E2EBFA;\n",
              "      box-shadow: 0px 1px 2px rgba(60, 64, 67, 0.3), 0px 1px 3px 1px rgba(60, 64, 67, 0.15);\n",
              "      fill: #174EA6;\n",
              "    }\n",
              "\n",
              "    [theme=dark] .colab-df-convert {\n",
              "      background-color: #3B4455;\n",
              "      fill: #D2E3FC;\n",
              "    }\n",
              "\n",
              "    [theme=dark] .colab-df-convert:hover {\n",
              "      background-color: #434B5C;\n",
              "      box-shadow: 0px 1px 3px 1px rgba(0, 0, 0, 0.15);\n",
              "      filter: drop-shadow(0px 1px 2px rgba(0, 0, 0, 0.3));\n",
              "      fill: #FFFFFF;\n",
              "    }\n",
              "  </style>\n",
              "\n",
              "      <script>\n",
              "        const buttonEl =\n",
              "          document.querySelector('#df-6fc51c74-37b3-4905-abc9-3c715d4f4e3e button.colab-df-convert');\n",
              "        buttonEl.style.display =\n",
              "          google.colab.kernel.accessAllowed ? 'block' : 'none';\n",
              "\n",
              "        async function convertToInteractive(key) {\n",
              "          const element = document.querySelector('#df-6fc51c74-37b3-4905-abc9-3c715d4f4e3e');\n",
              "          const dataTable =\n",
              "            await google.colab.kernel.invokeFunction('convertToInteractive',\n",
              "                                                     [key], {});\n",
              "          if (!dataTable) return;\n",
              "\n",
              "          const docLinkHtml = 'Like what you see? Visit the ' +\n",
              "            '<a target=\"_blank\" href=https://colab.research.google.com/notebooks/data_table.ipynb>data table notebook</a>'\n",
              "            + ' to learn more about interactive tables.';\n",
              "          element.innerHTML = '';\n",
              "          dataTable['output_type'] = 'display_data';\n",
              "          await google.colab.output.renderOutput(dataTable, element);\n",
              "          const docLink = document.createElement('div');\n",
              "          docLink.innerHTML = docLinkHtml;\n",
              "          element.appendChild(docLink);\n",
              "        }\n",
              "      </script>\n",
              "    </div>\n",
              "  </div>\n",
              "  "
            ]
          },
          "metadata": {},
          "execution_count": 277
        }
      ]
    },
    {
      "cell_type": "code",
      "source": [
        "# info\n",
        "movie_df.info()"
      ],
      "metadata": {
        "execution": {
          "iopub.status.busy": "2023-04-30T03:00:28.732310Z",
          "iopub.execute_input": "2023-04-30T03:00:28.732613Z",
          "iopub.status.idle": "2023-04-30T03:00:28.751797Z",
          "shell.execute_reply.started": "2023-04-30T03:00:28.732588Z",
          "shell.execute_reply": "2023-04-30T03:00:28.750803Z"
        },
        "trusted": true,
        "colab": {
          "base_uri": "https://localhost:8080/"
        },
        "id": "TjwJIzK7LbT8",
        "outputId": "67ab9686-a081-45f7-eb8b-182f3f8cb8d5"
      },
      "execution_count": 278,
      "outputs": [
        {
          "output_type": "stream",
          "name": "stdout",
          "text": [
            "<class 'pandas.core.frame.DataFrame'>\n",
            "RangeIndex: 9742 entries, 0 to 9741\n",
            "Data columns (total 3 columns):\n",
            " #   Column   Non-Null Count  Dtype \n",
            "---  ------   --------------  ----- \n",
            " 0   movieId  9742 non-null   int64 \n",
            " 1   title    9742 non-null   object\n",
            " 2   genres   9742 non-null   object\n",
            "dtypes: int64(1), object(2)\n",
            "memory usage: 228.5+ KB\n"
          ]
        }
      ]
    },
    {
      "cell_type": "code",
      "source": [
        "# convert id column to string\n",
        "movie_df['movieId'] = movie_df['movieId'].apply(lambda x: str(x))"
      ],
      "metadata": {
        "execution": {
          "iopub.status.busy": "2023-04-30T03:00:28.753089Z",
          "iopub.execute_input": "2023-04-30T03:00:28.753516Z",
          "iopub.status.idle": "2023-04-30T03:00:28.765521Z",
          "shell.execute_reply.started": "2023-04-30T03:00:28.753481Z",
          "shell.execute_reply": "2023-04-30T03:00:28.764471Z"
        },
        "trusted": true,
        "id": "69ENnG_nLbT9"
      },
      "execution_count": 279,
      "outputs": []
    },
    {
      "cell_type": "code",
      "source": [
        "# sample anime name with invalid characters\n",
        "movie_df['title'].loc[8441]"
      ],
      "metadata": {
        "execution": {
          "iopub.status.busy": "2023-04-30T03:00:28.767218Z",
          "iopub.execute_input": "2023-04-30T03:00:28.767656Z",
          "iopub.status.idle": "2023-04-30T03:00:28.774674Z",
          "shell.execute_reply.started": "2023-04-30T03:00:28.767618Z",
          "shell.execute_reply": "2023-04-30T03:00:28.773522Z"
        },
        "trusted": true,
        "colab": {
          "base_uri": "https://localhost:8080/",
          "height": 35
        },
        "id": "sEm3Vw5pLbT9",
        "outputId": "5d84a5f4-ffe9-4d3e-8710-3e2a81fbf84c"
      },
      "execution_count": 280,
      "outputs": [
        {
          "output_type": "execute_result",
          "data": {
            "text/plain": [
              "'Million Dollar Arm (2014)'"
            ],
            "application/vnd.google.colaboratory.intrinsic+json": {
              "type": "string"
            }
          },
          "metadata": {},
          "execution_count": 280
        }
      ]
    },
    {
      "cell_type": "code",
      "source": [
        "# clean anime name column\n",
        "# remove html encodings\n",
        "# convert to regular characters\n",
        "movie_df['title'] = movie_df['title'].apply(html.unescape)\n",
        "\n",
        "# remove emojis and other miscellaneous unicode characters\n",
        "# encode as ascii to remove miscellaneous unicode characters\n",
        "# replaces the characters with '?'\n",
        "# converts str to array of bytes\n",
        "movie_df['title'] = movie_df['title'].map(lambda x: x.encode('ascii', 'replace'))\n",
        "\n",
        "# decode to convert to str\n",
        "movie_df['title'] = movie_df['title'].map(lambda x: x.decode())\n",
        "\n",
        "# replace '?' with a space\n",
        "movie_df['title'] = movie_df['title'].map(lambda x: x.replace('?', ' '))"
      ],
      "metadata": {
        "execution": {
          "iopub.status.busy": "2023-04-30T03:00:28.776562Z",
          "iopub.execute_input": "2023-04-30T03:00:28.776903Z",
          "iopub.status.idle": "2023-04-30T03:00:28.802196Z",
          "shell.execute_reply.started": "2023-04-30T03:00:28.776869Z",
          "shell.execute_reply": "2023-04-30T03:00:28.801286Z"
        },
        "trusted": true,
        "id": "j5a3FSsHLbT9"
      },
      "execution_count": 281,
      "outputs": []
    },
    {
      "cell_type": "code",
      "source": [
        "# verify cleaning\n",
        "movie_df['title'].loc[8441]"
      ],
      "metadata": {
        "execution": {
          "iopub.status.busy": "2023-04-30T03:00:28.803446Z",
          "iopub.execute_input": "2023-04-30T03:00:28.803867Z",
          "iopub.status.idle": "2023-04-30T03:00:28.810621Z",
          "shell.execute_reply.started": "2023-04-30T03:00:28.803828Z",
          "shell.execute_reply": "2023-04-30T03:00:28.809564Z"
        },
        "trusted": true,
        "colab": {
          "base_uri": "https://localhost:8080/",
          "height": 35
        },
        "id": "VtFBnzfLLbT9",
        "outputId": "22734a92-7cae-4953-8f51-7954f483876a"
      },
      "execution_count": 282,
      "outputs": [
        {
          "output_type": "execute_result",
          "data": {
            "text/plain": [
              "'Million Dollar Arm (2014)'"
            ],
            "application/vnd.google.colaboratory.intrinsic+json": {
              "type": "string"
            }
          },
          "metadata": {},
          "execution_count": 282
        }
      ]
    },
    {
      "cell_type": "code",
      "source": [
        "# add anime name column from anime dataframe to rating dataframe\n",
        "rating_df = pd.merge(rating_df, movie_df.loc[:, ['movieId', 'title']], on='movieId')\n",
        "\n",
        "rating_df.shape"
      ],
      "metadata": {
        "execution": {
          "iopub.status.busy": "2023-04-30T03:00:28.811927Z",
          "iopub.execute_input": "2023-04-30T03:00:28.813022Z",
          "iopub.status.idle": "2023-04-30T03:00:33.139228Z",
          "shell.execute_reply.started": "2023-04-30T03:00:28.812985Z",
          "shell.execute_reply": "2023-04-30T03:00:33.137989Z"
        },
        "trusted": true,
        "colab": {
          "base_uri": "https://localhost:8080/"
        },
        "id": "wCwtEQMvLbT9",
        "outputId": "8a770063-371b-4792-eaa1-fbee51344530"
      },
      "execution_count": 283,
      "outputs": [
        {
          "output_type": "execute_result",
          "data": {
            "text/plain": [
              "(100836, 5)"
            ]
          },
          "metadata": {},
          "execution_count": 283
        }
      ]
    },
    {
      "cell_type": "code",
      "source": [
        "# first 5 data points\n",
        "rating_df.head()"
      ],
      "metadata": {
        "execution": {
          "iopub.status.busy": "2023-04-30T03:00:33.141014Z",
          "iopub.execute_input": "2023-04-30T03:00:33.141411Z",
          "iopub.status.idle": "2023-04-30T03:00:33.154078Z",
          "shell.execute_reply.started": "2023-04-30T03:00:33.141380Z",
          "shell.execute_reply": "2023-04-30T03:00:33.152742Z"
        },
        "trusted": true,
        "colab": {
          "base_uri": "https://localhost:8080/",
          "height": 206
        },
        "id": "I1scxfNOLbT-",
        "outputId": "d6936ff9-275d-4dfd-8b9b-c8eee0f5fd26"
      },
      "execution_count": 284,
      "outputs": [
        {
          "output_type": "execute_result",
          "data": {
            "text/plain": [
              "  userId movieId  rating   timestamp             title\n",
              "0      1       1     4.0   964982703  Toy Story (1995)\n",
              "1      5       1     4.0   847434962  Toy Story (1995)\n",
              "2      7       1     4.5  1106635946  Toy Story (1995)\n",
              "3     15       1     2.5  1510577970  Toy Story (1995)\n",
              "4     17       1     4.5  1305696483  Toy Story (1995)"
            ],
            "text/html": [
              "\n",
              "  <div id=\"df-95c20d84-c234-4fe6-8eeb-10a867d69eef\">\n",
              "    <div class=\"colab-df-container\">\n",
              "      <div>\n",
              "<style scoped>\n",
              "    .dataframe tbody tr th:only-of-type {\n",
              "        vertical-align: middle;\n",
              "    }\n",
              "\n",
              "    .dataframe tbody tr th {\n",
              "        vertical-align: top;\n",
              "    }\n",
              "\n",
              "    .dataframe thead th {\n",
              "        text-align: right;\n",
              "    }\n",
              "</style>\n",
              "<table border=\"1\" class=\"dataframe\">\n",
              "  <thead>\n",
              "    <tr style=\"text-align: right;\">\n",
              "      <th></th>\n",
              "      <th>userId</th>\n",
              "      <th>movieId</th>\n",
              "      <th>rating</th>\n",
              "      <th>timestamp</th>\n",
              "      <th>title</th>\n",
              "    </tr>\n",
              "  </thead>\n",
              "  <tbody>\n",
              "    <tr>\n",
              "      <th>0</th>\n",
              "      <td>1</td>\n",
              "      <td>1</td>\n",
              "      <td>4.0</td>\n",
              "      <td>964982703</td>\n",
              "      <td>Toy Story (1995)</td>\n",
              "    </tr>\n",
              "    <tr>\n",
              "      <th>1</th>\n",
              "      <td>5</td>\n",
              "      <td>1</td>\n",
              "      <td>4.0</td>\n",
              "      <td>847434962</td>\n",
              "      <td>Toy Story (1995)</td>\n",
              "    </tr>\n",
              "    <tr>\n",
              "      <th>2</th>\n",
              "      <td>7</td>\n",
              "      <td>1</td>\n",
              "      <td>4.5</td>\n",
              "      <td>1106635946</td>\n",
              "      <td>Toy Story (1995)</td>\n",
              "    </tr>\n",
              "    <tr>\n",
              "      <th>3</th>\n",
              "      <td>15</td>\n",
              "      <td>1</td>\n",
              "      <td>2.5</td>\n",
              "      <td>1510577970</td>\n",
              "      <td>Toy Story (1995)</td>\n",
              "    </tr>\n",
              "    <tr>\n",
              "      <th>4</th>\n",
              "      <td>17</td>\n",
              "      <td>1</td>\n",
              "      <td>4.5</td>\n",
              "      <td>1305696483</td>\n",
              "      <td>Toy Story (1995)</td>\n",
              "    </tr>\n",
              "  </tbody>\n",
              "</table>\n",
              "</div>\n",
              "      <button class=\"colab-df-convert\" onclick=\"convertToInteractive('df-95c20d84-c234-4fe6-8eeb-10a867d69eef')\"\n",
              "              title=\"Convert this dataframe to an interactive table.\"\n",
              "              style=\"display:none;\">\n",
              "        \n",
              "  <svg xmlns=\"http://www.w3.org/2000/svg\" height=\"24px\"viewBox=\"0 0 24 24\"\n",
              "       width=\"24px\">\n",
              "    <path d=\"M0 0h24v24H0V0z\" fill=\"none\"/>\n",
              "    <path d=\"M18.56 5.44l.94 2.06.94-2.06 2.06-.94-2.06-.94-.94-2.06-.94 2.06-2.06.94zm-11 1L8.5 8.5l.94-2.06 2.06-.94-2.06-.94L8.5 2.5l-.94 2.06-2.06.94zm10 10l.94 2.06.94-2.06 2.06-.94-2.06-.94-.94-2.06-.94 2.06-2.06.94z\"/><path d=\"M17.41 7.96l-1.37-1.37c-.4-.4-.92-.59-1.43-.59-.52 0-1.04.2-1.43.59L10.3 9.45l-7.72 7.72c-.78.78-.78 2.05 0 2.83L4 21.41c.39.39.9.59 1.41.59.51 0 1.02-.2 1.41-.59l7.78-7.78 2.81-2.81c.8-.78.8-2.07 0-2.86zM5.41 20L4 18.59l7.72-7.72 1.47 1.35L5.41 20z\"/>\n",
              "  </svg>\n",
              "      </button>\n",
              "      \n",
              "  <style>\n",
              "    .colab-df-container {\n",
              "      display:flex;\n",
              "      flex-wrap:wrap;\n",
              "      gap: 12px;\n",
              "    }\n",
              "\n",
              "    .colab-df-convert {\n",
              "      background-color: #E8F0FE;\n",
              "      border: none;\n",
              "      border-radius: 50%;\n",
              "      cursor: pointer;\n",
              "      display: none;\n",
              "      fill: #1967D2;\n",
              "      height: 32px;\n",
              "      padding: 0 0 0 0;\n",
              "      width: 32px;\n",
              "    }\n",
              "\n",
              "    .colab-df-convert:hover {\n",
              "      background-color: #E2EBFA;\n",
              "      box-shadow: 0px 1px 2px rgba(60, 64, 67, 0.3), 0px 1px 3px 1px rgba(60, 64, 67, 0.15);\n",
              "      fill: #174EA6;\n",
              "    }\n",
              "\n",
              "    [theme=dark] .colab-df-convert {\n",
              "      background-color: #3B4455;\n",
              "      fill: #D2E3FC;\n",
              "    }\n",
              "\n",
              "    [theme=dark] .colab-df-convert:hover {\n",
              "      background-color: #434B5C;\n",
              "      box-shadow: 0px 1px 3px 1px rgba(0, 0, 0, 0.15);\n",
              "      filter: drop-shadow(0px 1px 2px rgba(0, 0, 0, 0.3));\n",
              "      fill: #FFFFFF;\n",
              "    }\n",
              "  </style>\n",
              "\n",
              "      <script>\n",
              "        const buttonEl =\n",
              "          document.querySelector('#df-95c20d84-c234-4fe6-8eeb-10a867d69eef button.colab-df-convert');\n",
              "        buttonEl.style.display =\n",
              "          google.colab.kernel.accessAllowed ? 'block' : 'none';\n",
              "\n",
              "        async function convertToInteractive(key) {\n",
              "          const element = document.querySelector('#df-95c20d84-c234-4fe6-8eeb-10a867d69eef');\n",
              "          const dataTable =\n",
              "            await google.colab.kernel.invokeFunction('convertToInteractive',\n",
              "                                                     [key], {});\n",
              "          if (!dataTable) return;\n",
              "\n",
              "          const docLinkHtml = 'Like what you see? Visit the ' +\n",
              "            '<a target=\"_blank\" href=https://colab.research.google.com/notebooks/data_table.ipynb>data table notebook</a>'\n",
              "            + ' to learn more about interactive tables.';\n",
              "          element.innerHTML = '';\n",
              "          dataTable['output_type'] = 'display_data';\n",
              "          await google.colab.output.renderOutput(dataTable, element);\n",
              "          const docLink = document.createElement('div');\n",
              "          docLink.innerHTML = docLinkHtml;\n",
              "          element.appendChild(docLink);\n",
              "        }\n",
              "      </script>\n",
              "    </div>\n",
              "  </div>\n",
              "  "
            ]
          },
          "metadata": {},
          "execution_count": 284
        }
      ]
    },
    {
      "cell_type": "code",
      "source": [
        "# convert rating data from dataframe to tensorflow Dataset\n",
        "ratings = tf.data.Dataset.from_tensor_slices(dict(rating_df))\n",
        "\n",
        "# keep only user_id and anime_name column\n",
        "ratings = ratings.map(lambda x: {\n",
        "    'title': x['title'],\n",
        "    'userId': x['userId']\n",
        "})\n",
        "\n",
        "for x in ratings.take(5).as_numpy_iterator():\n",
        "    pprint.pprint(x)"
      ],
      "metadata": {
        "execution": {
          "iopub.status.busy": "2023-04-30T03:00:33.156268Z",
          "iopub.execute_input": "2023-04-30T03:00:33.157283Z",
          "iopub.status.idle": "2023-04-30T03:00:36.827984Z",
          "shell.execute_reply.started": "2023-04-30T03:00:33.157239Z",
          "shell.execute_reply": "2023-04-30T03:00:36.825674Z"
        },
        "trusted": true,
        "colab": {
          "base_uri": "https://localhost:8080/"
        },
        "id": "CkSKhX95LbT-",
        "outputId": "d591b1b4-a370-487f-eaad-73c71f6957ef"
      },
      "execution_count": 285,
      "outputs": [
        {
          "output_type": "stream",
          "name": "stdout",
          "text": [
            "{'title': b'Toy Story (1995)', 'userId': b'1'}\n",
            "{'title': b'Toy Story (1995)', 'userId': b'5'}\n",
            "{'title': b'Toy Story (1995)', 'userId': b'7'}\n",
            "{'title': b'Toy Story (1995)', 'userId': b'15'}\n",
            "{'title': b'Toy Story (1995)', 'userId': b'17'}\n"
          ]
        }
      ]
    },
    {
      "cell_type": "code",
      "source": [
        "# convert anime metadata from dataframe to tensorflow Dataset\n",
        "# keep only anime name\n",
        "movies = tf.data.Dataset.from_tensor_slices(movie_df['title'])\n",
        "\n",
        "for x in movies.take(5).as_numpy_iterator():\n",
        "    pprint.pprint(x)"
      ],
      "metadata": {
        "execution": {
          "iopub.status.busy": "2023-04-30T03:00:36.829532Z",
          "iopub.execute_input": "2023-04-30T03:00:36.829952Z",
          "iopub.status.idle": "2023-04-30T03:00:36.858756Z",
          "shell.execute_reply.started": "2023-04-30T03:00:36.829892Z",
          "shell.execute_reply": "2023-04-30T03:00:36.857832Z"
        },
        "trusted": true,
        "colab": {
          "base_uri": "https://localhost:8080/"
        },
        "id": "ykIp66D2LbT-",
        "outputId": "43bf4929-0859-4771-ab85-d62fae159d3b"
      },
      "execution_count": 286,
      "outputs": [
        {
          "output_type": "stream",
          "name": "stdout",
          "text": [
            "b'Toy Story (1995)'\n",
            "b'Jumanji (1995)'\n",
            "b'Grumpier Old Men (1995)'\n",
            "b'Waiting to Exhale (1995)'\n",
            "b'Father of the Bride Part II (1995)'\n"
          ]
        }
      ]
    },
    {
      "cell_type": "code",
      "source": [
        "# shuffle and split data: train, valid, test\n",
        "# set seed\n",
        "tf.random.set_seed(42)\n",
        "\n",
        "# total data points\n",
        "N = rating_df.shape[0]\n",
        "\n",
        "# total train data points\n",
        "N_train = int(0.6 * N)\n",
        "\n",
        "# total valid data points\n",
        "N_valid = int(0.2 * N)\n",
        "\n",
        "# total test data points\n",
        "N_test = N - (N_train + N_valid)\n",
        "\n",
        "# shuffle data\n",
        "shuffled = ratings.shuffle(N, seed=42, reshuffle_each_iteration=False)\n",
        "\n",
        "# # split data\n",
        "train = shuffled.take(N_train)\n",
        "valid = shuffled.skip(N_train).take(N_valid)\n",
        "test = shuffled.skip((N_train + N_valid)).take(N_test)"
      ],
      "metadata": {
        "execution": {
          "iopub.status.busy": "2023-04-30T03:00:36.859738Z",
          "iopub.execute_input": "2023-04-30T03:00:36.860073Z",
          "iopub.status.idle": "2023-04-30T03:00:36.913404Z",
          "shell.execute_reply.started": "2023-04-30T03:00:36.860038Z",
          "shell.execute_reply": "2023-04-30T03:00:36.912372Z"
        },
        "trusted": true,
        "id": "ftNJ_foALbT-"
      },
      "execution_count": 287,
      "outputs": []
    },
    {
      "cell_type": "code",
      "source": [
        "# extract list of unique anime titles\n",
        "unique_movie_titles = np.concatenate(list(movies.apply(tf.data.experimental.unique()).batch(1000)))\n",
        "\n",
        "unique_movie_titles[:10]"
      ],
      "metadata": {
        "execution": {
          "iopub.status.busy": "2023-04-30T03:00:36.917872Z",
          "iopub.execute_input": "2023-04-30T03:00:36.920198Z",
          "iopub.status.idle": "2023-04-30T03:00:36.983282Z",
          "shell.execute_reply.started": "2023-04-30T03:00:36.920159Z",
          "shell.execute_reply": "2023-04-30T03:00:36.982309Z"
        },
        "trusted": true,
        "colab": {
          "base_uri": "https://localhost:8080/"
        },
        "id": "z54FJYjwLbT-",
        "outputId": "381a6dc0-212d-4d50-f0c3-5a5fbbc921ad"
      },
      "execution_count": 288,
      "outputs": [
        {
          "output_type": "execute_result",
          "data": {
            "text/plain": [
              "array([b'Toy Story (1995)', b'Jumanji (1995)', b'Grumpier Old Men (1995)',\n",
              "       b'Waiting to Exhale (1995)', b'Father of the Bride Part II (1995)',\n",
              "       b'Heat (1995)', b'Sabrina (1995)', b'Tom and Huck (1995)',\n",
              "       b'Sudden Death (1995)', b'GoldenEye (1995)'], dtype=object)"
            ]
          },
          "metadata": {},
          "execution_count": 288
        }
      ]
    },
    {
      "cell_type": "code",
      "source": [
        "# extract list of unique user ids\n",
        "user_ids = ratings.batch(1_000_000).map(lambda x: x['userId'])\n",
        "unique_user_ids = np.unique(np.concatenate(list(user_ids)))\n",
        "\n",
        "unique_user_ids[:4]"
      ],
      "metadata": {
        "execution": {
          "iopub.status.busy": "2023-04-30T03:00:36.987500Z",
          "iopub.execute_input": "2023-04-30T03:00:36.989740Z",
          "iopub.status.idle": "2023-04-30T03:02:10.605900Z",
          "shell.execute_reply.started": "2023-04-30T03:00:36.989701Z",
          "shell.execute_reply": "2023-04-30T03:02:10.604862Z"
        },
        "trusted": true,
        "colab": {
          "base_uri": "https://localhost:8080/"
        },
        "id": "HYUm0VE2LbT_",
        "outputId": "8555e2c1-cf21-496b-c9a8-f27482efa279"
      },
      "execution_count": 289,
      "outputs": [
        {
          "output_type": "execute_result",
          "data": {
            "text/plain": [
              "array([b'1', b'10', b'100', b'101'], dtype=object)"
            ]
          },
          "metadata": {},
          "execution_count": 289
        }
      ]
    },
    {
      "cell_type": "markdown",
      "source": [
        "## Retrieval Model: Two Tower Architecture\n",
        "- Query Tower\n",
        "- Candidate Tower\n",
        "\n",
        "### Model Architecture"
      ],
      "metadata": {
        "id": "wiWf2GjBLbT_"
      }
    },
    {
      "cell_type": "code",
      "source": [
        "# query and candidate embedding dimension\n",
        "embedding_dimension = 32\n",
        "strategy = tf.distribute.MirroredStrategy()"
      ],
      "metadata": {
        "execution": {
          "iopub.status.busy": "2023-04-30T03:02:10.610635Z",
          "iopub.execute_input": "2023-04-30T03:02:10.613059Z",
          "iopub.status.idle": "2023-04-30T03:02:10.619548Z",
          "shell.execute_reply.started": "2023-04-30T03:02:10.613021Z",
          "shell.execute_reply": "2023-04-30T03:02:10.618350Z"
        },
        "trusted": true,
        "id": "s0PrxlHuLbT_"
      },
      "execution_count": 290,
      "outputs": []
    },
    {
      "cell_type": "markdown",
      "source": [
        "- ### Query Tower"
      ],
      "metadata": {
        "id": "4adYpavxLbT_"
      }
    },
    {
      "cell_type": "code",
      "source": [
        "# query tower\n",
        "with strategy.scope():\n",
        "    user_model = tf.keras.Sequential([\n",
        "        tf.keras.layers.StringLookup(vocabulary=unique_user_ids, mask_token=None),\n",
        "\n",
        "        # add an additional embedding to account for unknown tokens\n",
        "        tf.keras.layers.Embedding(len(unique_user_ids) + 1, embedding_dimension)\n",
        "    ])"
      ],
      "metadata": {
        "execution": {
          "iopub.status.busy": "2023-04-30T03:02:10.624463Z",
          "iopub.execute_input": "2023-04-30T03:02:10.626399Z",
          "iopub.status.idle": "2023-04-30T03:02:10.735125Z",
          "shell.execute_reply.started": "2023-04-30T03:02:10.626358Z",
          "shell.execute_reply": "2023-04-30T03:02:10.734015Z"
        },
        "trusted": true,
        "id": "wjHvV9DpLbT_"
      },
      "execution_count": 291,
      "outputs": []
    },
    {
      "cell_type": "markdown",
      "source": [
        "- ### Query Tower"
      ],
      "metadata": {
        "id": "np1R6l9kLbT_"
      }
    },
    {
      "cell_type": "code",
      "source": [
        "# candidate tower\n",
        "with strategy.scope():\n",
        "    anime_model = tf.keras.Sequential([\n",
        "        tf.keras.layers.StringLookup(vocabulary=unique_movie_titles, mask_token=None),\n",
        "\n",
        "        # add an additional embedding to account for unknown tokens\n",
        "        tf.keras.layers.Embedding(len(unique_movie_titles) + 1, embedding_dimension)\n",
        "    ])"
      ],
      "metadata": {
        "execution": {
          "iopub.status.busy": "2023-04-30T03:02:10.740137Z",
          "iopub.execute_input": "2023-04-30T03:02:10.742516Z",
          "iopub.status.idle": "2023-04-30T03:02:10.766094Z",
          "shell.execute_reply.started": "2023-04-30T03:02:10.742473Z",
          "shell.execute_reply": "2023-04-30T03:02:10.764842Z"
        },
        "trusted": true,
        "id": "r4vt2ioDLbT_"
      },
      "execution_count": 292,
      "outputs": []
    },
    {
      "cell_type": "markdown",
      "source": [
        "- ### Metrics and Loss"
      ],
      "metadata": {
        "id": "8gB8dp92LbT_"
      }
    },
    {
      "cell_type": "code",
      "source": [
        "with strategy.scope():\n",
        "    \n",
        "    # metrics\n",
        "    metrics = tfrs.metrics.FactorizedTopK(\n",
        "      candidates=movies.batch(1024).map(anime_model)\n",
        "    )\n",
        "    \n",
        "    # loss\n",
        "    task = tfrs.tasks.Retrieval(\n",
        "      metrics=metrics\n",
        "    )"
      ],
      "metadata": {
        "execution": {
          "iopub.status.busy": "2023-04-30T03:02:10.770898Z",
          "iopub.execute_input": "2023-04-30T03:02:10.773204Z",
          "iopub.status.idle": "2023-04-30T03:02:11.127593Z",
          "shell.execute_reply.started": "2023-04-30T03:02:10.773156Z",
          "shell.execute_reply": "2023-04-30T03:02:11.126591Z"
        },
        "trusted": true,
        "id": "1l1Rv86jLbT_"
      },
      "execution_count": 293,
      "outputs": []
    },
    {
      "cell_type": "markdown",
      "source": [
        "- ### Retrieval Model"
      ],
      "metadata": {
        "id": "6PUUFYfSLbUA"
      }
    },
    {
      "cell_type": "code",
      "source": [
        "# retrieval model\n",
        "class MovieModel(tfrs.Model):\n",
        "\n",
        "    def __init__(self, user_model, anime_model):\n",
        "        super().__init__()\n",
        "        self.user_model: tf.keras.Model = user_model\n",
        "        self.anime_model: tf.keras.Model = anime_model\n",
        "        self.task: tf.keras.layers.Layer = task\n",
        "\n",
        "    def compute_loss(self, features: Dict[Text, tf.Tensor], training=False):\n",
        "        # pass the user features into the user model\n",
        "        # returns the embeddings\n",
        "        user_embeddings = self.user_model(features[\"userId\"])\n",
        "        \n",
        "        # pass the movie features into the movie model\n",
        "        # returns the embeddings\n",
        "        positive_anime_embeddings = self.anime_model(features[\"title\"])\n",
        "\n",
        "        # the task computes the loss and the metrics\n",
        "        # compute_metrics=not training:\n",
        "        # - turns metric calculation off while training\n",
        "        # - speeds up training\n",
        "        return self.task(user_embeddings, positive_anime_embeddings, compute_metrics=not training)"
      ],
      "metadata": {
        "execution": {
          "iopub.status.busy": "2023-04-30T03:02:11.132469Z",
          "iopub.execute_input": "2023-04-30T03:02:11.134803Z",
          "iopub.status.idle": "2023-04-30T03:02:11.146620Z",
          "shell.execute_reply.started": "2023-04-30T03:02:11.134764Z",
          "shell.execute_reply": "2023-04-30T03:02:11.145474Z"
        },
        "trusted": true,
        "id": "5ltE68qBLbUA"
      },
      "execution_count": 294,
      "outputs": []
    },
    {
      "cell_type": "code",
      "source": [
        "with strategy.scope():\n",
        "    # initialize model\n",
        "    model = MovieModel(user_model, anime_model)\n",
        "\n",
        "    # compile model\n",
        "    model.compile(optimizer=tf.keras.optimizers.Adam(learning_rate=0.01))"
      ],
      "metadata": {
        "execution": {
          "iopub.status.busy": "2023-04-30T03:02:11.157384Z",
          "iopub.execute_input": "2023-04-30T03:02:11.160113Z",
          "iopub.status.idle": "2023-04-30T03:02:11.189259Z",
          "shell.execute_reply.started": "2023-04-30T03:02:11.160077Z",
          "shell.execute_reply": "2023-04-30T03:02:11.188352Z"
        },
        "trusted": true,
        "id": "frJnU3IkLbUA"
      },
      "execution_count": 295,
      "outputs": []
    },
    {
      "cell_type": "code",
      "source": [
        "# prepare train and test sets for training\n",
        "cached_train = train.shuffle(N_train).batch(8192).cache()\n",
        "cached_valid = valid.batch(4096).cache()"
      ],
      "metadata": {
        "execution": {
          "iopub.status.busy": "2023-04-30T03:02:11.193370Z",
          "iopub.execute_input": "2023-04-30T03:02:11.195636Z",
          "iopub.status.idle": "2023-04-30T03:02:11.212067Z",
          "shell.execute_reply.started": "2023-04-30T03:02:11.195597Z",
          "shell.execute_reply": "2023-04-30T03:02:11.211225Z"
        },
        "trusted": true,
        "id": "ixXMC1BrLbUA"
      },
      "execution_count": 296,
      "outputs": []
    },
    {
      "cell_type": "markdown",
      "source": [
        "### Train and Evaluate Model"
      ],
      "metadata": {
        "id": "GsFjUmfZLbUA"
      }
    },
    {
      "cell_type": "code",
      "source": [
        "# train model\n",
        "history = model.fit(cached_train, epochs=15)"
      ],
      "metadata": {
        "execution": {
          "iopub.status.busy": "2023-04-30T03:02:11.216092Z",
          "iopub.execute_input": "2023-04-30T03:02:11.218293Z",
          "iopub.status.idle": "2023-04-30T03:07:24.032371Z",
          "shell.execute_reply.started": "2023-04-30T03:02:11.218257Z",
          "shell.execute_reply": "2023-04-30T03:07:24.031365Z"
        },
        "trusted": true,
        "colab": {
          "base_uri": "https://localhost:8080/"
        },
        "id": "A2oyxsIRLbUA",
        "outputId": "7c65dfb4-9999-4d49-9067-a832243e96d9"
      },
      "execution_count": 297,
      "outputs": [
        {
          "output_type": "stream",
          "name": "stdout",
          "text": [
            "Epoch 1/15\n",
            "8/8 [==============================] - 4s 280ms/step - factorized_top_k/top_1_categorical_accuracy: 0.0000e+00 - factorized_top_k/top_5_categorical_accuracy: 0.0000e+00 - factorized_top_k/top_10_categorical_accuracy: 0.0000e+00 - factorized_top_k/top_50_categorical_accuracy: 0.0000e+00 - factorized_top_k/top_100_categorical_accuracy: 0.0000e+00 - loss: 63066.7431 - regularization_loss: 0.0000e+00 - total_loss: 63066.7431\n",
            "Epoch 2/15\n",
            "8/8 [==============================] - 0s 10ms/step - factorized_top_k/top_1_categorical_accuracy: 0.0000e+00 - factorized_top_k/top_5_categorical_accuracy: 0.0000e+00 - factorized_top_k/top_10_categorical_accuracy: 0.0000e+00 - factorized_top_k/top_50_categorical_accuracy: 0.0000e+00 - factorized_top_k/top_100_categorical_accuracy: 0.0000e+00 - loss: 62923.9809 - regularization_loss: 0.0000e+00 - total_loss: 62923.9809\n",
            "Epoch 3/15\n",
            "8/8 [==============================] - 0s 10ms/step - factorized_top_k/top_1_categorical_accuracy: 0.0000e+00 - factorized_top_k/top_5_categorical_accuracy: 0.0000e+00 - factorized_top_k/top_10_categorical_accuracy: 0.0000e+00 - factorized_top_k/top_50_categorical_accuracy: 0.0000e+00 - factorized_top_k/top_100_categorical_accuracy: 0.0000e+00 - loss: 62498.8542 - regularization_loss: 0.0000e+00 - total_loss: 62498.8542\n",
            "Epoch 4/15\n",
            "8/8 [==============================] - 0s 12ms/step - factorized_top_k/top_1_categorical_accuracy: 0.0000e+00 - factorized_top_k/top_5_categorical_accuracy: 0.0000e+00 - factorized_top_k/top_10_categorical_accuracy: 0.0000e+00 - factorized_top_k/top_50_categorical_accuracy: 0.0000e+00 - factorized_top_k/top_100_categorical_accuracy: 0.0000e+00 - loss: 61610.8329 - regularization_loss: 0.0000e+00 - total_loss: 61610.8329\n",
            "Epoch 5/15\n",
            "8/8 [==============================] - 0s 10ms/step - factorized_top_k/top_1_categorical_accuracy: 0.0000e+00 - factorized_top_k/top_5_categorical_accuracy: 0.0000e+00 - factorized_top_k/top_10_categorical_accuracy: 0.0000e+00 - factorized_top_k/top_50_categorical_accuracy: 0.0000e+00 - factorized_top_k/top_100_categorical_accuracy: 0.0000e+00 - loss: 60263.9332 - regularization_loss: 0.0000e+00 - total_loss: 60263.9332\n",
            "Epoch 6/15\n",
            "8/8 [==============================] - 0s 10ms/step - factorized_top_k/top_1_categorical_accuracy: 0.0000e+00 - factorized_top_k/top_5_categorical_accuracy: 0.0000e+00 - factorized_top_k/top_10_categorical_accuracy: 0.0000e+00 - factorized_top_k/top_50_categorical_accuracy: 0.0000e+00 - factorized_top_k/top_100_categorical_accuracy: 0.0000e+00 - loss: 58709.1641 - regularization_loss: 0.0000e+00 - total_loss: 58709.1641\n",
            "Epoch 7/15\n",
            "8/8 [==============================] - 0s 10ms/step - factorized_top_k/top_1_categorical_accuracy: 0.0000e+00 - factorized_top_k/top_5_categorical_accuracy: 0.0000e+00 - factorized_top_k/top_10_categorical_accuracy: 0.0000e+00 - factorized_top_k/top_50_categorical_accuracy: 0.0000e+00 - factorized_top_k/top_100_categorical_accuracy: 0.0000e+00 - loss: 57207.0191 - regularization_loss: 0.0000e+00 - total_loss: 57207.0191\n",
            "Epoch 8/15\n",
            "8/8 [==============================] - 0s 10ms/step - factorized_top_k/top_1_categorical_accuracy: 0.0000e+00 - factorized_top_k/top_5_categorical_accuracy: 0.0000e+00 - factorized_top_k/top_10_categorical_accuracy: 0.0000e+00 - factorized_top_k/top_50_categorical_accuracy: 0.0000e+00 - factorized_top_k/top_100_categorical_accuracy: 0.0000e+00 - loss: 55857.4028 - regularization_loss: 0.0000e+00 - total_loss: 55857.4028\n",
            "Epoch 9/15\n",
            "8/8 [==============================] - 0s 10ms/step - factorized_top_k/top_1_categorical_accuracy: 0.0000e+00 - factorized_top_k/top_5_categorical_accuracy: 0.0000e+00 - factorized_top_k/top_10_categorical_accuracy: 0.0000e+00 - factorized_top_k/top_50_categorical_accuracy: 0.0000e+00 - factorized_top_k/top_100_categorical_accuracy: 0.0000e+00 - loss: 54744.3893 - regularization_loss: 0.0000e+00 - total_loss: 54744.3893\n",
            "Epoch 10/15\n",
            "8/8 [==============================] - 0s 12ms/step - factorized_top_k/top_1_categorical_accuracy: 0.0000e+00 - factorized_top_k/top_5_categorical_accuracy: 0.0000e+00 - factorized_top_k/top_10_categorical_accuracy: 0.0000e+00 - factorized_top_k/top_50_categorical_accuracy: 0.0000e+00 - factorized_top_k/top_100_categorical_accuracy: 0.0000e+00 - loss: 53859.1836 - regularization_loss: 0.0000e+00 - total_loss: 53859.1836\n",
            "Epoch 11/15\n",
            "8/8 [==============================] - 0s 10ms/step - factorized_top_k/top_1_categorical_accuracy: 0.0000e+00 - factorized_top_k/top_5_categorical_accuracy: 0.0000e+00 - factorized_top_k/top_10_categorical_accuracy: 0.0000e+00 - factorized_top_k/top_50_categorical_accuracy: 0.0000e+00 - factorized_top_k/top_100_categorical_accuracy: 0.0000e+00 - loss: 53151.6085 - regularization_loss: 0.0000e+00 - total_loss: 53151.6085\n",
            "Epoch 12/15\n",
            "8/8 [==============================] - 0s 10ms/step - factorized_top_k/top_1_categorical_accuracy: 0.0000e+00 - factorized_top_k/top_5_categorical_accuracy: 0.0000e+00 - factorized_top_k/top_10_categorical_accuracy: 0.0000e+00 - factorized_top_k/top_50_categorical_accuracy: 0.0000e+00 - factorized_top_k/top_100_categorical_accuracy: 0.0000e+00 - loss: 52579.1727 - regularization_loss: 0.0000e+00 - total_loss: 52579.1727\n",
            "Epoch 13/15\n",
            "8/8 [==============================] - 0s 10ms/step - factorized_top_k/top_1_categorical_accuracy: 0.0000e+00 - factorized_top_k/top_5_categorical_accuracy: 0.0000e+00 - factorized_top_k/top_10_categorical_accuracy: 0.0000e+00 - factorized_top_k/top_50_categorical_accuracy: 0.0000e+00 - factorized_top_k/top_100_categorical_accuracy: 0.0000e+00 - loss: 52108.0521 - regularization_loss: 0.0000e+00 - total_loss: 52108.0521\n",
            "Epoch 14/15\n",
            "8/8 [==============================] - 0s 10ms/step - factorized_top_k/top_1_categorical_accuracy: 0.0000e+00 - factorized_top_k/top_5_categorical_accuracy: 0.0000e+00 - factorized_top_k/top_10_categorical_accuracy: 0.0000e+00 - factorized_top_k/top_50_categorical_accuracy: 0.0000e+00 - factorized_top_k/top_100_categorical_accuracy: 0.0000e+00 - loss: 51714.5434 - regularization_loss: 0.0000e+00 - total_loss: 51714.5434\n",
            "Epoch 15/15\n",
            "8/8 [==============================] - 0s 10ms/step - factorized_top_k/top_1_categorical_accuracy: 0.0000e+00 - factorized_top_k/top_5_categorical_accuracy: 0.0000e+00 - factorized_top_k/top_10_categorical_accuracy: 0.0000e+00 - factorized_top_k/top_50_categorical_accuracy: 0.0000e+00 - factorized_top_k/top_100_categorical_accuracy: 0.0000e+00 - loss: 51381.8737 - regularization_loss: 0.0000e+00 - total_loss: 51381.8737\n"
          ]
        }
      ]
    },
    {
      "cell_type": "code",
      "source": [
        "# evaluate the model\n",
        "model.evaluate(cached_valid, return_dict=True)"
      ],
      "metadata": {
        "execution": {
          "iopub.status.busy": "2023-04-30T03:07:24.035275Z",
          "iopub.execute_input": "2023-04-30T03:07:24.035660Z",
          "iopub.status.idle": "2023-04-30T03:17:50.562998Z",
          "shell.execute_reply.started": "2023-04-30T03:07:24.035618Z",
          "shell.execute_reply": "2023-04-30T03:17:50.561979Z"
        },
        "trusted": true,
        "colab": {
          "base_uri": "https://localhost:8080/"
        },
        "id": "3g-LOFb7LbUA",
        "outputId": "151dda6c-2a51-4a99-d38c-f62c92d283b1"
      },
      "execution_count": 298,
      "outputs": [
        {
          "output_type": "stream",
          "name": "stdout",
          "text": [
            "5/5 [==============================] - 3s 268ms/step - factorized_top_k/top_1_categorical_accuracy: 4.9586e-05 - factorized_top_k/top_5_categorical_accuracy: 5.9503e-04 - factorized_top_k/top_10_categorical_accuracy: 0.0020 - factorized_top_k/top_50_categorical_accuracy: 0.0255 - factorized_top_k/top_100_categorical_accuracy: 0.0560 - loss: 34574.3574 - regularization_loss: 0.0000e+00 - total_loss: 34574.3574\n"
          ]
        },
        {
          "output_type": "execute_result",
          "data": {
            "text/plain": [
              "{'factorized_top_k/top_1_categorical_accuracy': 4.958595673087984e-05,\n",
              " 'factorized_top_k/top_5_categorical_accuracy': 0.0005950314807705581,\n",
              " 'factorized_top_k/top_10_categorical_accuracy': 0.00203302432782948,\n",
              " 'factorized_top_k/top_50_categorical_accuracy': 0.02553676813840866,\n",
              " 'factorized_top_k/top_100_categorical_accuracy': 0.05603213235735893,\n",
              " 'loss': 32478.599609375,\n",
              " 'regularization_loss': 0,\n",
              " 'total_loss': 32478.599609375}"
            ]
          },
          "metadata": {},
          "execution_count": 298
        }
      ]
    },
    {
      "cell_type": "markdown",
      "source": [
        "### Making Predictions"
      ],
      "metadata": {
        "id": "reM9NQQ1LbUA"
      }
    },
    {
      "cell_type": "code",
      "source": [
        "# use fatorized_top_k.BruteForce layer to make predictions\n",
        "# facilitates input raw query features,\n",
        "# embedding it and recommending movies out of the entire dataset\n",
        "\n",
        "# create the single layer model\n",
        "index = tfrs.layers.factorized_top_k.BruteForce(model.user_model)\n",
        "\n",
        "# generate recommendations\n",
        "index.index_from_dataset(\n",
        "  tf.data.Dataset.zip((movies.batch(100), movies.batch(100).map(model.anime_model)))\n",
        ")\n",
        "\n",
        "# get recommendation for specific user\n",
        "# user_id: 42\n",
        "_, titles = index(tf.constant([\"42\"]))\n",
        "print(f\"Recommendations for user 42: {titles[0, :3]}\")"
      ],
      "metadata": {
        "execution": {
          "iopub.status.busy": "2023-04-30T03:17:50.564582Z",
          "iopub.execute_input": "2023-04-30T03:17:50.565769Z",
          "iopub.status.idle": "2023-04-30T03:17:50.748583Z",
          "shell.execute_reply.started": "2023-04-30T03:17:50.565729Z",
          "shell.execute_reply": "2023-04-30T03:17:50.747409Z"
        },
        "trusted": true,
        "colab": {
          "base_uri": "https://localhost:8080/"
        },
        "id": "g95hxZF_LbUB",
        "outputId": "a4e5576a-f3a5-4d49-fe9b-1569b90dce19"
      },
      "execution_count": 299,
      "outputs": [
        {
          "output_type": "stream",
          "name": "stdout",
          "text": [
            "Recommendations for user 42: [b'Toxic Avenger Part III: The Last Temptation of Toxie, The (1989)'\n",
            " b'Being Human (1993)' b'Toxic Avenger, Part II, The (1989)']\n"
          ]
        }
      ]
    },
    {
      "cell_type": "markdown",
      "source": [
        "## Ranking Model\n",
        "\n",
        "### Prepare data for Ranking Model:\n",
        "- Add the rating column to the data used for Retrieval Model"
      ],
      "metadata": {
        "id": "RlfxGE6uLbUB"
      }
    },
    {
      "cell_type": "code",
      "source": [
        "# convert rating data from dataframe to tensorflow Dataset\n",
        "ratings = tf.data.Dataset.from_tensor_slices(dict(rating_df))\n",
        "\n",
        "# keep only user_id and anime_name column\n",
        "ratings = ratings.map(lambda x: {\n",
        "    'title': x['title'],\n",
        "    'userId': x['userId'],\n",
        "    'rating': x['rating']\n",
        "})\n",
        "\n",
        "for x in ratings.take(5).as_numpy_iterator():\n",
        "    pprint.pprint(x)"
      ],
      "metadata": {
        "execution": {
          "iopub.status.busy": "2023-04-30T03:17:50.750159Z",
          "iopub.execute_input": "2023-04-30T03:17:50.750528Z",
          "iopub.status.idle": "2023-04-30T03:17:54.266619Z",
          "shell.execute_reply.started": "2023-04-30T03:17:50.750479Z",
          "shell.execute_reply": "2023-04-30T03:17:54.265488Z"
        },
        "trusted": true,
        "colab": {
          "base_uri": "https://localhost:8080/"
        },
        "id": "O7uc7QLxLbUB",
        "outputId": "d21f201a-86c6-48b7-c3c0-fc6c09483dce"
      },
      "execution_count": 300,
      "outputs": [
        {
          "output_type": "stream",
          "name": "stdout",
          "text": [
            "{'rating': 4.0, 'title': b'Toy Story (1995)', 'userId': b'1'}\n",
            "{'rating': 4.0, 'title': b'Toy Story (1995)', 'userId': b'5'}\n",
            "{'rating': 4.5, 'title': b'Toy Story (1995)', 'userId': b'7'}\n",
            "{'rating': 2.5, 'title': b'Toy Story (1995)', 'userId': b'15'}\n",
            "{'rating': 4.5, 'title': b'Toy Story (1995)', 'userId': b'17'}\n"
          ]
        }
      ]
    },
    {
      "cell_type": "code",
      "source": [
        "# shuffle and split data: train, valid, test\n",
        "# total data points\n",
        "N = rating_df.shape[0]\n",
        "\n",
        "# total train data points\n",
        "N_train = int(0.6 * N)\n",
        "\n",
        "# total valid data points\n",
        "N_valid = int(0.2 * N)\n",
        "\n",
        "# total test data points\n",
        "N_test = N - (N_train + N_valid)\n",
        "\n",
        "# shuffle data\n",
        "shuffled = ratings.shuffle(N, seed=42, reshuffle_each_iteration=False)\n",
        "\n",
        "# # split data\n",
        "train = shuffled.take(N_train)\n",
        "valid = shuffled.skip(N_train).take(N_valid)\n",
        "test = shuffled.skip((N_train + N_valid)).take(N_test)"
      ],
      "metadata": {
        "execution": {
          "iopub.status.busy": "2023-04-30T03:17:54.268393Z",
          "iopub.execute_input": "2023-04-30T03:17:54.269071Z",
          "iopub.status.idle": "2023-04-30T03:17:54.283332Z",
          "shell.execute_reply.started": "2023-04-30T03:17:54.269029Z",
          "shell.execute_reply": "2023-04-30T03:17:54.282293Z"
        },
        "trusted": true,
        "id": "CiYYVuLqLbUB"
      },
      "execution_count": 301,
      "outputs": []
    },
    {
      "cell_type": "markdown",
      "source": [
        "### Model Architecture"
      ],
      "metadata": {
        "id": "bxdL7Pi_LbUC"
      }
    },
    {
      "cell_type": "code",
      "source": [
        "class RankingModel(tf.keras.Model):\n",
        "\n",
        "    def __init__(self):\n",
        "        super().__init__()\n",
        "        embedding_dimension = 32\n",
        "\n",
        "        # user model\n",
        "        # computes user embeddings\n",
        "        self.user_embeddings = tf.keras.Sequential([\n",
        "          tf.keras.layers.StringLookup(vocabulary=unique_user_ids, mask_token=None),\n",
        "          tf.keras.layers.Embedding(len(unique_user_ids) + 1, embedding_dimension)\n",
        "        ])\n",
        "\n",
        "        # anime model\n",
        "        # computes anime embeddings\n",
        "        self.movie_embeddings = tf.keras.Sequential([\n",
        "          tf.keras.layers.StringLookup(vocabulary=unique_movie_titles, mask_token=None),\n",
        "          tf.keras.layers.Embedding(len(unique_movie_titles) + 1, embedding_dimension)\n",
        "        ])\n",
        "\n",
        "        # ratings model\n",
        "        # predicts ratings\n",
        "        self.ratings = tf.keras.Sequential([\n",
        "          tf.keras.layers.Dense(256, activation=\"relu\"),\n",
        "          tf.keras.layers.Dense(64, activation=\"relu\"),\n",
        "          tf.keras.layers.Dense(1)\n",
        "        ])\n",
        "\n",
        "    def call(self, inputs):\n",
        "        userId, title = inputs\n",
        "        \n",
        "        # generate embeddings for the user id\n",
        "        user_embedding = self.user_embeddings(userId)\n",
        "        \n",
        "        # generate embeddings for the anime title\n",
        "        movie_embedding = self.movie_embeddings(title)\n",
        "        \n",
        "        # predict and return the ratings for user id and anime title pair\n",
        "        return self.ratings(tf.concat([user_embedding, movie_embedding], axis=1))"
      ],
      "metadata": {
        "execution": {
          "iopub.status.busy": "2023-04-30T03:17:54.284878Z",
          "iopub.execute_input": "2023-04-30T03:17:54.285501Z",
          "iopub.status.idle": "2023-04-30T03:17:54.296828Z",
          "shell.execute_reply.started": "2023-04-30T03:17:54.285460Z",
          "shell.execute_reply": "2023-04-30T03:17:54.295894Z"
        },
        "trusted": true,
        "id": "X6TRKVzLLbUC"
      },
      "execution_count": 302,
      "outputs": []
    },
    {
      "cell_type": "markdown",
      "source": [
        "- ### Loss and Metrics"
      ],
      "metadata": {
        "id": "hbG2WJhHLbUC"
      }
    },
    {
      "cell_type": "code",
      "source": [
        "with strategy.scope():\n",
        "    task = tfrs.tasks.Ranking(\n",
        "        loss = tf.keras.losses.MeanSquaredError(),\n",
        "        metrics=[tf.keras.metrics.RootMeanSquaredError()]\n",
        "    )"
      ],
      "metadata": {
        "execution": {
          "iopub.status.busy": "2023-04-30T03:17:54.298384Z",
          "iopub.execute_input": "2023-04-30T03:17:54.299088Z",
          "iopub.status.idle": "2023-04-30T03:17:54.325137Z",
          "shell.execute_reply.started": "2023-04-30T03:17:54.299051Z",
          "shell.execute_reply": "2023-04-30T03:17:54.324178Z"
        },
        "trusted": true,
        "id": "qnHwt2uILbUC"
      },
      "execution_count": 303,
      "outputs": []
    },
    {
      "cell_type": "markdown",
      "source": [
        "- ### Full Model"
      ],
      "metadata": {
        "id": "ErWIRG4xLbUC"
      }
    },
    {
      "cell_type": "code",
      "source": [
        "class MovieRankingModel(tfrs.models.Model):\n",
        "\n",
        "    def __init__(self):\n",
        "        super().__init__()\n",
        "        \n",
        "        self.ranking_model: tf.keras.Model = RankingModel()\n",
        "            \n",
        "        self.task: tf.keras.layers.Layer = tfrs.tasks.Ranking(\n",
        "          loss = tf.keras.losses.MeanSquaredError(reduction=tf.keras.losses.Reduction.SUM),\n",
        "          metrics=[tf.keras.metrics.RootMeanSquaredError()]\n",
        "        )\n",
        "\n",
        "    def call(self, features: Dict[str, tf.Tensor]):\n",
        "        return self.ranking_model((features[\"userId\"], features[\"title\"]))\n",
        "\n",
        "    def compute_loss(self, features: Dict[Text, tf.Tensor], training=False):\n",
        "        labels = features.pop(\"rating\")\n",
        "\n",
        "        rating_predictions = self(features)\n",
        "\n",
        "        # The task computes the loss and the metrics.\n",
        "        return self.task(labels=labels, predictions=rating_predictions)"
      ],
      "metadata": {
        "execution": {
          "iopub.status.busy": "2023-04-30T03:17:54.326581Z",
          "iopub.execute_input": "2023-04-30T03:17:54.327170Z",
          "iopub.status.idle": "2023-04-30T03:17:54.336161Z",
          "shell.execute_reply.started": "2023-04-30T03:17:54.327133Z",
          "shell.execute_reply": "2023-04-30T03:17:54.335130Z"
        },
        "trusted": true,
        "id": "IxoZbQeHLbUC"
      },
      "execution_count": 304,
      "outputs": []
    },
    {
      "cell_type": "code",
      "source": [
        "strategy = tf.distribute.MirroredStrategy()\n",
        "\n",
        "with strategy.scope():\n",
        "    # initialize model\n",
        "    model = MovieRankingModel()\n",
        "    \n",
        "    # compile model\n",
        "    model.compile(optimizer=tf.keras.optimizers.Adam(learning_rate=0.01))"
      ],
      "metadata": {
        "execution": {
          "iopub.status.busy": "2023-04-30T03:17:54.337848Z",
          "iopub.execute_input": "2023-04-30T03:17:54.338578Z",
          "iopub.status.idle": "2023-04-30T03:17:54.468835Z",
          "shell.execute_reply.started": "2023-04-30T03:17:54.338533Z",
          "shell.execute_reply": "2023-04-30T03:17:54.467745Z"
        },
        "trusted": true,
        "id": "ARkhErMNLbUC"
      },
      "execution_count": 305,
      "outputs": []
    },
    {
      "cell_type": "code",
      "source": [
        "# prepare train and test sets for training\n",
        "cached_train = train.shuffle(N_train).batch(8192).cache()\n",
        "cached_valid = valid.batch(4096).cache()"
      ],
      "metadata": {
        "execution": {
          "iopub.status.busy": "2023-04-30T03:17:54.470420Z",
          "iopub.execute_input": "2023-04-30T03:17:54.471031Z",
          "iopub.status.idle": "2023-04-30T03:17:54.667322Z",
          "shell.execute_reply.started": "2023-04-30T03:17:54.470991Z",
          "shell.execute_reply": "2023-04-30T03:17:54.666138Z"
        },
        "trusted": true,
        "id": "efv2p6JvLbUC"
      },
      "execution_count": 306,
      "outputs": []
    },
    {
      "cell_type": "markdown",
      "source": [
        "### Train and Evaluate Model"
      ],
      "metadata": {
        "id": "uTry8CYgLbUC"
      }
    },
    {
      "cell_type": "code",
      "source": [
        "# train the model\n",
        "history = model.fit(cached_train, epochs=5)"
      ],
      "metadata": {
        "execution": {
          "iopub.status.busy": "2023-04-30T03:17:54.669002Z",
          "iopub.execute_input": "2023-04-30T03:17:54.669416Z",
          "iopub.status.idle": "2023-04-30T03:22:48.037292Z",
          "shell.execute_reply.started": "2023-04-30T03:17:54.669372Z",
          "shell.execute_reply": "2023-04-30T03:22:48.036095Z"
        },
        "trusted": true,
        "colab": {
          "base_uri": "https://localhost:8080/"
        },
        "id": "BuWY9ksnLbUD",
        "outputId": "91ebc33b-9057-46f1-c77c-acbb9685c3ff"
      },
      "execution_count": 307,
      "outputs": [
        {
          "output_type": "stream",
          "name": "stdout",
          "text": [
            "Epoch 1/5\n",
            "8/8 [==============================] - 5s 265ms/step - root_mean_squared_error: 2.6219 - loss: 6.0149 - regularization_loss: 0.0000e+00 - total_loss: 6.0149\n",
            "Epoch 2/5\n",
            "8/8 [==============================] - 0s 5ms/step - root_mean_squared_error: 1.1594 - loss: 1.2358 - regularization_loss: 0.0000e+00 - total_loss: 1.2358\n",
            "Epoch 3/5\n",
            "8/8 [==============================] - 0s 6ms/step - root_mean_squared_error: 1.0147 - loss: 1.0207 - regularization_loss: 0.0000e+00 - total_loss: 1.0207\n",
            "Epoch 4/5\n",
            "8/8 [==============================] - 0s 6ms/step - root_mean_squared_error: 0.8872 - loss: 0.7656 - regularization_loss: 0.0000e+00 - total_loss: 0.7656\n",
            "Epoch 5/5\n",
            "8/8 [==============================] - 0s 6ms/step - root_mean_squared_error: 0.8140 - loss: 0.6425 - regularization_loss: 0.0000e+00 - total_loss: 0.6425\n"
          ]
        }
      ]
    },
    {
      "cell_type": "code",
      "source": [
        "# evaluate the model\n",
        "model.evaluate(cached_valid, return_dict=True)"
      ],
      "metadata": {
        "execution": {
          "iopub.status.busy": "2023-04-30T03:22:48.040213Z",
          "iopub.execute_input": "2023-04-30T03:22:48.041045Z"
        },
        "trusted": true,
        "colab": {
          "base_uri": "https://localhost:8080/"
        },
        "id": "vIF1h-wuLbUD",
        "outputId": "3fddb222-c00d-4302-b11c-6b237fe69119"
      },
      "execution_count": 308,
      "outputs": [
        {
          "output_type": "stream",
          "name": "stdout",
          "text": [
            "5/5 [==============================] - 1s 15ms/step - root_mean_squared_error: 0.8988 - loss: 0.8099 - regularization_loss: 0.0000e+00 - total_loss: 0.8099\n"
          ]
        },
        {
          "output_type": "execute_result",
          "data": {
            "text/plain": [
              "{'root_mean_squared_error': 0.8988497853279114,\n",
              " 'loss': 0.8190810084342957,\n",
              " 'regularization_loss': 0,\n",
              " 'total_loss': 0.8190810084342957}"
            ]
          },
          "metadata": {},
          "execution_count": 308
        }
      ]
    },
    {
      "cell_type": "markdown",
      "source": [
        "### Making Predictions"
      ],
      "metadata": {
        "id": "3migegzXLbUD"
      }
    },
    {
      "cell_type": "code",
      "source": [
        "for x in test.take(5).as_numpy_iterator():\n",
        "    pprint.pprint(x)"
      ],
      "metadata": {
        "trusted": true,
        "colab": {
          "base_uri": "https://localhost:8080/"
        },
        "id": "b_yyrS35LbUD",
        "outputId": "0cc35be0-50e1-4d41-b3c9-4325b91734c8"
      },
      "execution_count": 309,
      "outputs": [
        {
          "output_type": "stream",
          "name": "stdout",
          "text": [
            "{'rating': 2.5, 'title': b'Client, The (1994)', 'userId': b'448'}\n",
            "{'rating': 3.5,\n",
            " 'title': b'Scenes From a Marriage (Scener ur ett  ktenskap) (1973)',\n",
            " 'userId': b'105'}\n",
            "{'rating': 3.5,\n",
            " 'title': b'Tokyo Drifter (T ky  nagaremono) (1966)',\n",
            " 'userId': b'599'}\n",
            "{'rating': 4.0, 'title': b'Goldfinger (1964)', 'userId': b'603'}\n",
            "{'rating': 0.5, 'title': b'Julie & Julia (2009)', 'userId': b'10'}\n"
          ]
        }
      ]
    }
  ]
}