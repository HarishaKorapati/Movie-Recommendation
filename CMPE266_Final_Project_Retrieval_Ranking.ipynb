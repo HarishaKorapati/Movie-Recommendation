{
 "cells": [
  {
   "cell_type": "code",
   "execution_count": 1,
   "id": "b76690a2",
   "metadata": {},
   "outputs": [],
   "source": [
    "from pyspark.sql import SparkSession\n",
    "from pyspark.ml.recommendation import ALS\n",
    "from pyspark.ml.evaluation import RegressionEvaluator\n",
    "from pyspark.sql.functions import col, expr, rank, dense_rank, row_number\n",
    "from pyspark.sql.window import Window\n"
   ]
  },
  {
   "cell_type": "code",
   "execution_count": 2,
   "id": "23c662da",
   "metadata": {},
   "outputs": [
    {
     "name": "stderr",
     "output_type": "stream",
     "text": [
      "Setting default log level to \"WARN\".\n",
      "To adjust logging level use sc.setLogLevel(newLevel). For SparkR, use setLogLevel(newLevel).\n"
     ]
    },
    {
     "name": "stdout",
     "output_type": "stream",
     "text": [
      "23/05/10 12:02:20 WARN NativeCodeLoader: Unable to load native-hadoop library for your platform... using builtin-java classes where applicable\n",
      "23/05/10 12:02:21 WARN Utils: Service 'SparkUI' could not bind on port 4040. Attempting port 4041.\n",
      "23/05/10 12:02:21 WARN Utils: Service 'SparkUI' could not bind on port 4041. Attempting port 4042.\n"
     ]
    }
   ],
   "source": [
    "spark = SparkSession.builder \\\n",
    "    .appName(\"MovieLens Retrieval and Ranking\") \\\n",
    "    .getOrCreate()\n"
   ]
  },
  {
   "cell_type": "code",
   "execution_count": 3,
   "id": "97698d3c",
   "metadata": {},
   "outputs": [],
   "source": [
    "ratings = spark.read \\\n",
    "    .option(\"header\", \"true\") \\\n",
    "    .option(\"inferSchema\", \"true\") \\\n",
    "    .csv(\"ratings.csv\")\n",
    "\n",
    "movies = spark.read \\\n",
    "    .option(\"header\", \"true\") \\\n",
    "    .option(\"inferSchema\", \"true\") \\\n",
    "    .csv(\"movies.csv\")\n"
   ]
  },
  {
   "cell_type": "code",
   "execution_count": 4,
   "id": "bd5a51f6",
   "metadata": {},
   "outputs": [],
   "source": [
    "train_ratings, test_ratings = ratings.randomSplit([0.8, 0.2], seed=42)"
   ]
  },
  {
   "cell_type": "code",
   "execution_count": 5,
   "id": "f83a5284",
   "metadata": {},
   "outputs": [
    {
     "name": "stdout",
     "output_type": "stream",
     "text": [
      "23/05/10 12:02:34 WARN InstanceBuilder$NativeBLAS: Failed to load implementation from:dev.ludovic.netlib.blas.JNIBLAS\n",
      "23/05/10 12:02:34 WARN InstanceBuilder$NativeBLAS: Failed to load implementation from:dev.ludovic.netlib.blas.ForeignLinkerBLAS\n"
     ]
    }
   ],
   "source": [
    "als = ALS(userCol=\"userId\", itemCol=\"movieId\", ratingCol=\"rating\", coldStartStrategy=\"drop\", nonnegative=True)\n",
    "model = als.fit(train_ratings)"
   ]
  },
  {
   "cell_type": "code",
   "execution_count": 6,
   "id": "ed281b2d",
   "metadata": {},
   "outputs": [],
   "source": [
    "predictions = model.transform(test_ratings)"
   ]
  },
  {
   "cell_type": "code",
   "execution_count": 7,
   "id": "bf3e4fbf",
   "metadata": {},
   "outputs": [
    {
     "name": "stdout",
     "output_type": "stream",
     "text": [
      "Root-mean-square error: 0.8755676176270328\n"
     ]
    }
   ],
   "source": [
    "evaluator = RegressionEvaluator(metricName=\"rmse\", labelCol=\"rating\", predictionCol=\"prediction\")\n",
    "rmse = evaluator.evaluate(predictions)\n",
    "print(f\"Root-mean-square error: {rmse}\")"
   ]
  },
  {
   "cell_type": "code",
   "execution_count": 8,
   "id": "f282f591",
   "metadata": {},
   "outputs": [
    {
     "name": "stdout",
     "output_type": "stream",
     "text": [
      "+------+-------+------+---------+----------+----+\n",
      "|userId|movieId|rating|timestamp|prediction|rank|\n",
      "+------+-------+------+---------+----------+----+\n",
      "|     1|   1089|   5.0|964982951| 5.0975866|   1|\n",
      "|     1|    940|   5.0|964982176| 4.9025445|   2|\n",
      "|     1|   1197|   5.0|964981872|  4.828831|   3|\n",
      "|     1|   2947|   5.0|964982176|  4.684357|   4|\n",
      "|     1|      6|   4.0|964982224| 4.6345983|   5|\n",
      "|     1|   2529|   5.0|964982242| 4.6165557|   6|\n",
      "|     1|   3578|   5.0|964980668|  4.556016|   7|\n",
      "|     1|   2005|   5.0|964981710| 4.5136485|   8|\n",
      "|     1|   3703|   5.0|964981909| 4.5113173|   9|\n",
      "|     1|   1031|   5.0|964982653|  4.395322|  10|\n",
      "|     1|   2596|   5.0|964981144|  4.395197|  11|\n",
      "|     1|    596|   5.0|964982838| 4.3634067|  12|\n",
      "|     1|    943|   4.0|964983614|   4.36233|  13|\n",
      "|     1|    151|   5.0|964984041| 4.3612294|  14|\n",
      "|     1|   2000|   4.0|964982211| 4.3560743|  15|\n",
      "|     1|   2096|   4.0|964982838|  4.311615|  16|\n",
      "|     1|   1573|   5.0|964982290|  4.290023|  17|\n",
      "|     1|   3168|   4.0|964982495| 4.2509274|  18|\n",
      "|     1|    923|   5.0|964981529| 4.2387705|  19|\n",
      "|     1|    543|   4.0|964981179| 4.2315335|  20|\n",
      "+------+-------+------+---------+----------+----+\n",
      "only showing top 20 rows\n",
      "\n"
     ]
    }
   ],
   "source": [
    "window = Window.partitionBy(\"userId\").orderBy(col(\"prediction\").desc())\n",
    "ranked_predictions = predictions.withColumn(\"rank\", dense_rank().over(window))\n",
    "ranked_predictions.show()"
   ]
  },
  {
   "cell_type": "code",
   "execution_count": 9,
   "id": "153e30fe",
   "metadata": {},
   "outputs": [
    {
     "name": "stdout",
     "output_type": "stream",
     "text": [
      "+------+-------+-----------------------------------------+----+\n",
      "|userId|movieId|title                                    |rank|\n",
      "+------+-------+-----------------------------------------+----+\n",
      "|133   |32     |Twelve Monkeys (a.k.a. 12 Monkeys) (1995)|4   |\n",
      "|133   |153    |Batman Forever (1995)                    |10  |\n",
      "|133   |367    |Mask, The (1994)                         |8   |\n",
      "|133   |377    |Speed (1994)                             |7   |\n",
      "|133   |454    |Firm, The (1993)                         |9   |\n",
      "|133   |474    |In the Line of Fire (1993)               |5   |\n",
      "|133   |524    |Rudy (1993)                              |3   |\n",
      "|133   |527    |Schindler's List (1993)                  |1   |\n",
      "|133   |529    |Searching for Bobby Fischer (1993)       |6   |\n",
      "|133   |593    |Silence of the Lambs, The (1991)         |2   |\n",
      "+------+-------+-----------------------------------------+----+\n",
      "\n"
     ]
    }
   ],
   "source": [
    "def get_recommendations(user_id, top_n=10):\n",
    "    user_recommendations = ranked_predictions.filter(col(\"userId\") == user_id).limit(top_n)\n",
    "    return user_recommendations.join(movies, \"movieId\").select(\"userId\", \"movieId\", \"title\", \"rank\")\n",
    "\n",
    "user_id = 133\n",
    "top_n = 10\n",
    "recommendations = get_recommendations(user_id, top_n)\n",
    "recommendations.show(truncate=False)"
   ]
  },
  {
   "cell_type": "code",
   "execution_count": null,
   "id": "a6ba2b48",
   "metadata": {},
   "outputs": [],
   "source": []
  }
 ],
 "metadata": {
  "kernelspec": {
   "display_name": "Python 3 (ipykernel)",
   "language": "python",
   "name": "python3"
  },
  "language_info": {
   "codemirror_mode": {
    "name": "ipython",
    "version": 3
   },
   "file_extension": ".py",
   "mimetype": "text/x-python",
   "name": "python",
   "nbconvert_exporter": "python",
   "pygments_lexer": "ipython3",
   "version": "3.9.7"
  },
  "papermill": {
   "default_parameters": {},
   "duration": 3690.801843,
   "end_time": "2023-04-30T07:45:09.783523",
   "environment_variables": {},
   "exception": null,
   "input_path": "__notebook__.ipynb",
   "output_path": "__notebook__.ipynb",
   "parameters": {},
   "start_time": "2023-04-30T06:43:38.981680",
   "version": "2.4.0"
  }
 },
 "nbformat": 4,
 "nbformat_minor": 5
}
